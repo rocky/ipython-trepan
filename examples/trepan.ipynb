{
 "cells": [
  {
   "cell_type": "code",
   "execution_count": 1,
   "metadata": {
    "collapsed": false
   },
   "outputs": [
    {
     "name": "stdout",
     "output_type": "stream",
     "text": [
      "Installed trepanmagic.py. To use it, type:\n",
      "  %load_ext trepanmagic\n"
     ]
    }
   ],
   "source": [
    "%install_ext https://raw.github.com/rocky/ipython-trepan/master/trepanmagic.py"
   ]
  },
  {
   "cell_type": "code",
   "execution_count": 2,
   "metadata": {
    "collapsed": false
   },
   "outputs": [
    {
     "name": "stdout",
     "output_type": "stream",
     "text": [
      "\n",
      "trepanmagic.py loaded\n"
     ]
    }
   ],
   "source": [
    "%load_ext trepanmagic"
   ]
  },
  {
   "cell_type": "code",
   "execution_count": 3,
   "metadata": {
    "collapsed": false
   },
   "outputs": [
    {
     "name": "stdout",
     "output_type": "stream",
     "text": [
      "(/tmp/gcd.py:10): <module>\n",
      "-> 10 \u001b[33m\"\"\"\u001b[39;49;00m\n",
      "\u001b[04m(trepan3k)\u001b[39;49;00m set autolist on\n",
      "\u001b[04m(trepan3k)\u001b[39;49;00m n\n",
      "(/tmp/gcd.py:11): <module>\n",
      "-- 11 \u001b[34mimport\u001b[39;49;00m \u001b[39;49;00m\u001b[04m\u001b[36msys\u001b[39;49;00m\n",
      "  6    \t\n",
      "  7    \t\u001b[33mcheck_args() raises an uncaught exception when given the wrong number\u001b[39;49;00m\n",
      "  8    \t\u001b[33mof parameters.\u001b[39;49;00m\n",
      "  9    \t\n",
      " 10    \t\u001b[33m\"\"\"\u001b[39;49;00m\n",
      "\u001b[01m 11  ->\u001b[39;49;00m\t\u001b[34mimport\u001b[39;49;00m \u001b[39;49;00m\u001b[04m\u001b[36msys\u001b[39;49;00m\n",
      " 12    \t\n",
      " 13    \t\u001b[34mdef\u001b[39;49;00m \u001b[39;49;00m\u001b[32mcheck_args\u001b[39;49;00m(\u001b[39;49;00m)\u001b[39;49;00m:\u001b[39;49;00m\n",
      " 14    \t    \u001b[39;49;00m\u001b[34mif\u001b[39;49;00m \u001b[39;49;00m\u001b[36mlen\u001b[39;49;00m(\u001b[39;49;00msys\u001b[39;49;00m.\u001b[39;49;00margv\u001b[39;49;00m)\u001b[39;49;00m \u001b[39;49;00m!=\u001b[39;49;00m \u001b[39;49;00m\u001b[34m3\u001b[39;49;00m:\u001b[39;49;00m\n",
      " 15    \t        \u001b[39;49;00m\u001b[37m# Rather than use sys.exit let's just raise an error\u001b[39;49;00m\n",
      "\u001b[04m(trepan3k)\u001b[39;49;00m n\n",
      "(/tmp/gcd.py:40): <module>\n",
      "-- 40 \u001b[34mif\u001b[39;49;00m \u001b[39;49;00m__name__\u001b[39;49;00m==\u001b[39;49;00m\u001b[33m'\u001b[39;49;00m\u001b[33m__main__\u001b[39;49;00m\u001b[33m'\u001b[39;49;00m:\u001b[39;49;00m\n",
      " 35    \t        \u001b[39;49;00m\u001b[34mreturn\u001b[39;49;00m \u001b[39;49;00m\u001b[36mNone\u001b[39;49;00m\n",
      " 36    \t    \u001b[39;49;00m\u001b[34mif\u001b[39;49;00m \u001b[39;49;00ma\u001b[39;49;00m \u001b[39;49;00m==\u001b[39;49;00m \u001b[39;49;00m\u001b[34m1\u001b[39;49;00m \u001b[39;49;00m\u001b[35mor\u001b[39;49;00m \u001b[39;49;00mb\u001b[39;49;00m-\u001b[39;49;00ma\u001b[39;49;00m \u001b[39;49;00m==\u001b[39;49;00m \u001b[39;49;00m\u001b[34m0\u001b[39;49;00m:\u001b[39;49;00m\n",
      " 37    \t        \u001b[39;49;00m\u001b[34mreturn\u001b[39;49;00m \u001b[39;49;00ma\u001b[39;49;00m\n",
      " 38    \t    \u001b[39;49;00m\u001b[34mreturn\u001b[39;49;00m \u001b[39;49;00mgcd\u001b[39;49;00m(\u001b[39;49;00mb\u001b[39;49;00m-\u001b[39;49;00ma\u001b[39;49;00m,\u001b[39;49;00m \u001b[39;49;00ma\u001b[39;49;00m)\u001b[39;49;00m\n",
      " 39    \t\n",
      "\u001b[01m 40  ->\u001b[39;49;00m\t\u001b[34mif\u001b[39;49;00m \u001b[39;49;00m__name__\u001b[39;49;00m==\u001b[39;49;00m\u001b[33m'\u001b[39;49;00m\u001b[33m__main__\u001b[39;49;00m\u001b[33m'\u001b[39;49;00m:\u001b[39;49;00m\n",
      " 41    \t    \u001b[39;49;00mcheck_args\u001b[39;49;00m(\u001b[39;49;00m)\u001b[39;49;00m\n",
      " 42    \t\n",
      " 43    \t    \u001b[39;49;00m(\u001b[39;49;00ma\u001b[39;49;00m,\u001b[39;49;00m \u001b[39;49;00mb\u001b[39;49;00m)\u001b[39;49;00m \u001b[39;49;00m=\u001b[39;49;00m \u001b[39;49;00msys\u001b[39;49;00m.\u001b[39;49;00margv\u001b[39;49;00m[\u001b[39;49;00m\u001b[34m1\u001b[39;49;00m:\u001b[39;49;00m\u001b[34m3\u001b[39;49;00m]\u001b[39;49;00m\n",
      " 44    \t    \u001b[39;49;00m\u001b[34mprint\u001b[39;49;00m(\u001b[39;49;00m\u001b[33m\"\u001b[39;49;00m\u001b[33mThe GCD of \u001b[39;49;00m\u001b[33m%d\u001b[39;49;00m\u001b[33m and \u001b[39;49;00m\u001b[33m%d\u001b[39;49;00m\u001b[33m is \u001b[39;49;00m\u001b[33m%d\u001b[39;49;00m\u001b[33m\"\u001b[39;49;00m \u001b[39;49;00m%\u001b[39;49;00m \u001b[39;49;00m(\u001b[39;49;00ma\u001b[39;49;00m,\u001b[39;49;00m \u001b[39;49;00mb\u001b[39;49;00m,\u001b[39;49;00m \u001b[39;49;00mgcd\u001b[39;49;00m(\u001b[39;49;00ma\u001b[39;49;00m,\u001b[39;49;00m \u001b[39;49;00mb\u001b[39;49;00m)\u001b[39;49;00m)\u001b[39;49;00m)\u001b[39;49;00m\n",
      "\u001b[04m(trepan3k)\u001b[39;49;00m eval?\n",
      "eval: __name__=='__main__'\n"
     ]
    },
    {
     "data": {
      "text/plain": [
       "True"
      ]
     },
     "execution_count": 3,
     "metadata": {},
     "output_type": "execute_result"
    },
   "outputs": [
    {
     "name": "stdout",
     "output_type": "stream",
     "text": [
      "(/tmp/gcd.py:10): <module>\n",
      "-> 10 \u001b[33m\"\"\"\u001b[39;49;00m\n",
      "\u001b[04m(trepan3k)\u001b[39;49;00m set autolist on\n",
      "\u001b[04m(trepan3k)\u001b[39;49;00m next\n",
      "(/tmp/gcd.py:11): <module>\n",
      "-- 11 \u001b[34mimport\u001b[39;49;00m \u001b[39;49;00m\u001b[04m\u001b[36msys\u001b[39;49;00m\n",
      "  6    \t\n",
      "  7    \t\u001b[33mcheck_args() raises an uncaught exception when given the wrong number\u001b[39;49;00m\n",
      "  8    \t\u001b[33mof parameters.\u001b[39;49;00m\n",
      "  9    \t\n",
      " 10    \t\u001b[33m\"\"\"\u001b[39;49;00m\n",
      "\u001b[01m 11  ->\u001b[39;49;00m\t\u001b[34mimport\u001b[39;49;00m \u001b[39;49;00m\u001b[04m\u001b[36msys\u001b[39;49;00m\n",
      " 12    \t\n",
      " 13    \t\u001b[34mdef\u001b[39;49;00m \u001b[39;49;00m\u001b[32mcheck_args\u001b[39;49;00m(\u001b[39;49;00m)\u001b[39;49;00m:\u001b[39;49;00m\n",
      " 14    \t    \u001b[39;49;00m\u001b[34mif\u001b[39;49;00m \u001b[39;49;00m\u001b[36mlen\u001b[39;49;00m(\u001b[39;49;00msys\u001b[39;49;00m.\u001b[39;49;00margv\u001b[39;49;00m)\u001b[39;49;00m \u001b[39;49;00m!=\u001b[39;49;00m \u001b[39;49;00m\u001b[34m3\u001b[39;49;00m:\u001b[39;49;00m\n",
      " 15    \t        \u001b[39;49;00m\u001b[37m# Rather than use sys.exit let's just raise an error\u001b[39;49;00m\n",
      "\u001b[04m(trepan3k)\u001b[39;49;00m next\n",
      "(/tmp/gcd.py:40): <module>\n",
      "-- 40 \u001b[34mif\u001b[39;49;00m \u001b[39;49;00m__name__\u001b[39;49;00m==\u001b[39;49;00m\u001b[33m'\u001b[39;49;00m\u001b[33m__main__\u001b[39;49;00m\u001b[33m'\u001b[39;49;00m:\u001b[39;49;00m\n",
      " 35    \t        \u001b[39;49;00m\u001b[34mreturn\u001b[39;49;00m \u001b[39;49;00m\u001b[36mNone\u001b[39;49;00m\n",
      " 36    \t    \u001b[39;49;00m\u001b[34mif\u001b[39;49;00m \u001b[39;49;00ma\u001b[39;49;00m \u001b[39;49;00m==\u001b[39;49;00m \u001b[39;49;00m\u001b[34m1\u001b[39;49;00m \u001b[39;49;00m\u001b[35mor\u001b[39;49;00m \u001b[39;49;00mb\u001b[39;49;00m-\u001b[39;49;00ma\u001b[39;49;00m \u001b[39;49;00m==\u001b[39;49;00m \u001b[39;49;00m\u001b[34m0\u001b[39;49;00m:\u001b[39;49;00m\n",
      " 37    \t        \u001b[39;49;00m\u001b[34mreturn\u001b[39;49;00m \u001b[39;49;00ma\u001b[39;49;00m\n",
      " 38    \t    \u001b[39;49;00m\u001b[34mreturn\u001b[39;49;00m \u001b[39;49;00mgcd\u001b[39;49;00m(\u001b[39;49;00mb\u001b[39;49;00m-\u001b[39;49;00ma\u001b[39;49;00m,\u001b[39;49;00m \u001b[39;49;00ma\u001b[39;49;00m)\u001b[39;49;00m\n",
      " 39    \t\n",
      "\u001b[01m 40  ->\u001b[39;49;00m\t\u001b[34mif\u001b[39;49;00m \u001b[39;49;00m__name__\u001b[39;49;00m==\u001b[39;49;00m\u001b[33m'\u001b[39;49;00m\u001b[33m__main__\u001b[39;49;00m\u001b[33m'\u001b[39;49;00m:\u001b[39;49;00m\n",
      " 41    \t    \u001b[39;49;00mcheck_args\u001b[39;49;00m(\u001b[39;49;00m)\u001b[39;49;00m\n",
      " 42    \t\n",
      " 43    \t    \u001b[39;49;00m(\u001b[39;49;00ma\u001b[39;49;00m,\u001b[39;49;00m \u001b[39;49;00mb\u001b[39;49;00m)\u001b[39;49;00m \u001b[39;49;00m=\u001b[39;49;00m \u001b[39;49;00msys\u001b[39;49;00m.\u001b[39;49;00margv\u001b[39;49;00m[\u001b[39;49;00m\u001b[34m1\u001b[39;49;00m:\u001b[39;49;00m\u001b[34m3\u001b[39;49;00m]\u001b[39;49;00m\n",
      " 44    \t    \u001b[39;49;00m\u001b[34mprint\u001b[39;49;00m(\u001b[39;49;00m\u001b[33m\"\u001b[39;49;00m\u001b[33mThe GCD of \u001b[39;49;00m\u001b[33m%d\u001b[39;49;00m\u001b[33m and \u001b[39;49;00m\u001b[33m%d\u001b[39;49;00m\u001b[33m is \u001b[39;49;00m\u001b[33m%d\u001b[39;49;00m\u001b[33m\"\u001b[39;49;00m \u001b[39;49;00m%\u001b[39;49;00m \u001b[39;49;00m(\u001b[39;49;00ma\u001b[39;49;00m,\u001b[39;49;00m \u001b[39;49;00mb\u001b[39;49;00m,\u001b[39;49;00m \u001b[39;49;00mgcd\u001b[39;49;00m(\u001b[39;49;00ma\u001b[39;49;00m,\u001b[39;49;00m \u001b[39;49;00mb\u001b[39;49;00m)\u001b[39;49;00m)\u001b[39;49;00m)\u001b[39;49;00m\n",
      "\u001b[04m(trepan3k)\u001b[39;49;00m eval?\n",
      "eval: __name__=='__main__'\n"
     ]
    },
    {
     "data": {
      "text/plain": [
       "True"
      ]
     },
     "execution_count": 4,
     "metadata": {},
     "output_type": "execute_result"
    },
    {
     "name": "stdout",
     "output_type": "stream",
     "text": [
      "\u001b[04m(trepan3k)\u001b[39;49;00m break gcd\n",
      "Breakpoint 1 set on calling function gcd()\n",
      "Currently this is line 26 of file /tmp/gcd.py\n",
      "\u001b[04m(trepan3k)\u001b[39;49;00m continue\n",
      "(/tmp/gcd.py:26): gcd\n",
      "xx 26 \u001b[34mdef\u001b[39;49;00m \u001b[39;49;00m\u001b[32mgcd\u001b[39;49;00m(\u001b[39;49;00ma\u001b[39;49;00m,\u001b[39;49;00mb\u001b[39;49;00m)\u001b[39;49;00m:\u001b[39;49;00m\n",
      " 21    \t            \u001b[39;49;00m\u001b[34mprint\u001b[39;49;00m(\u001b[39;49;00m\u001b[33m\"\u001b[39;49;00m\u001b[33m** Expecting an integer, got: \u001b[39;49;00m\u001b[33m%s\u001b[39;49;00m\u001b[33m\"\u001b[39;49;00m \u001b[39;49;00m%\u001b[39;49;00m \u001b[39;49;00m\u001b[36mrepr\u001b[39;49;00m(\u001b[39;49;00msys\u001b[39;49;00m.\u001b[39;49;00margv\u001b[39;49;00m[\u001b[39;49;00mi\u001b[39;49;00m]\u001b[39;49;00m)\u001b[39;49;00m)\u001b[39;49;00m\n",
      " 22    \t            \u001b[39;49;00msys\u001b[39;49;00m.\u001b[39;49;00mexit\u001b[39;49;00m(\u001b[39;49;00m\u001b[34m2\u001b[39;49;00m)\u001b[39;49;00m\n",
      " 23    \t            \u001b[39;49;00m\u001b[34mpass\u001b[39;49;00m\n",
      " 24    \t        \u001b[39;49;00m\u001b[34mpass\u001b[39;49;00m\n",
      " 25    \t\n",
      "\u001b[01m 26 B->\u001b[39;49;00m\t\u001b[34mdef\u001b[39;49;00m \u001b[39;49;00m\u001b[32mgcd\u001b[39;49;00m(\u001b[39;49;00ma\u001b[39;49;00m,\u001b[39;49;00mb\u001b[39;49;00m)\u001b[39;49;00m:\u001b[39;49;00m\n",
      " 27    \t    \u001b[39;49;00m\u001b[33m\"\"\" GCD. We assume positive numbers\"\"\"\u001b[39;49;00m\n",
      " 28    \t\n",
      " 29    \t    \u001b[39;49;00m\u001b[37m# Make: a <= b\u001b[39;49;00m\n",
      " 30    \t    \u001b[39;49;00m\u001b[34mif\u001b[39;49;00m \u001b[39;49;00ma\u001b[39;49;00m \u001b[39;49;00m>\u001b[39;49;00m \u001b[39;49;00mb\u001b[39;49;00m:\u001b[39;49;00m\n",
      "\u001b[04m(trepan3k)\u001b[39;49;00m backtrace\n",
      "\u001b[31;01m->\u001b[39;49;00m0 \u001b[32;01mgcd\u001b[39;49;00m(a=3, b=5) called from file \u001b[36;01m'/tmp/gcd.py'\u001b[39;49;00m at line \u001b[34;01m26\u001b[39;49;00m\n",
      "##1 \u001b[32;01m<module>\u001b[39;49;00m \u001b[32;01m\u001b[32;01mexec\u001b[39;49;00m\u001b[39;49;00m()\n",
      "     \u001b[36;01m'/tmp/gcd.py'\u001b[39;49;00m at line \u001b[34;01m44\u001b[39;49;00m\n",
      "\u001b[04m(trepan3k)\u001b[39;49;00m continue\n",
      "(/tmp/gcd.py:26): gcd\n",
      "xx 26 \u001b[34mdef\u001b[39;49;00m \u001b[39;49;00m\u001b[32mgcd\u001b[39;49;00m(\u001b[39;49;00ma\u001b[39;49;00m,\u001b[39;49;00mb\u001b[39;49;00m)\u001b[39;49;00m:\u001b[39;49;00m\n",
      " 21    \t            \u001b[39;49;00m\u001b[34mprint\u001b[39;49;00m(\u001b[39;49;00m\u001b[33m\"\u001b[39;49;00m\u001b[33m** Expecting an integer, got: \u001b[39;49;00m\u001b[33m%s\u001b[39;49;00m\u001b[33m\"\u001b[39;49;00m \u001b[39;49;00m%\u001b[39;49;00m \u001b[39;49;00m\u001b[36mrepr\u001b[39;49;00m(\u001b[39;49;00msys\u001b[39;49;00m.\u001b[39;49;00margv\u001b[39;49;00m[\u001b[39;49;00mi\u001b[39;49;00m]\u001b[39;49;00m)\u001b[39;49;00m)\u001b[39;49;00m\n",
      " 22    \t            \u001b[39;49;00msys\u001b[39;49;00m.\u001b[39;49;00mexit\u001b[39;49;00m(\u001b[39;49;00m\u001b[34m2\u001b[39;49;00m)\u001b[39;49;00m\n",
      " 23    \t            \u001b[39;49;00m\u001b[34mpass\u001b[39;49;00m\n",
      " 24    \t        \u001b[39;49;00m\u001b[34mpass\u001b[39;49;00m\n",
      " 25    \t\n",
      "\u001b[01m 26 B->\u001b[39;49;00m\t\u001b[34mdef\u001b[39;49;00m \u001b[39;49;00m\u001b[32mgcd\u001b[39;49;00m(\u001b[39;49;00ma\u001b[39;49;00m,\u001b[39;49;00mb\u001b[39;49;00m)\u001b[39;49;00m:\u001b[39;49;00m\n",
      " 27    \t    \u001b[39;49;00m\u001b[33m\"\"\" GCD. We assume positive numbers\"\"\"\u001b[39;49;00m\n",
      " 28    \t\n",
      " 29    \t    \u001b[39;49;00m\u001b[37m# Make: a <= b\u001b[39;49;00m\n",
      " 30    \t    \u001b[39;49;00m\u001b[34mif\u001b[39;49;00m \u001b[39;49;00ma\u001b[39;49;00m \u001b[39;49;00m>\u001b[39;49;00m \u001b[39;49;00mb\u001b[39;49;00m:\u001b[39;49;00m\n",
      "\u001b[04m(trepan3k)\u001b[39;49;00m backtrace\n",
      "\u001b[31;01m->\u001b[39;49;00m0 \u001b[32;01mgcd\u001b[39;49;00m(a=2, b=3) called from file \u001b[36;01m'/tmp/gcd.py'\u001b[39;49;00m at line \u001b[34;01m26\u001b[39;49;00m\n",
      "##1 \u001b[32;01mgcd\u001b[39;49;00m(a=3, b=5) called from file \u001b[36;01m'/tmp/gcd.py'\u001b[39;49;00m at line \u001b[34;01m38\u001b[39;49;00m\n",
      "##2 \u001b[32;01m<module>\u001b[39;49;00m \u001b[32;01m\u001b[32;01mexec\u001b[39;49;00m\u001b[39;49;00m()\n",
      "     \u001b[36;01m'/tmp/gcd.py'\u001b[39;49;00m at line \u001b[34;01m44\u001b[39;49;00m\n",
      "\u001b[04m(trepan3k)\u001b[39;49;00m delete 1\n",
      "Deleted breakpoint 1\n",
      "\u001b[04m(trepan3k)\u001b[39;49;00m continue\n",
      "(/tmp/gcd.py:26): gcd\n",
      "xx 26 \u001b[34mdef\u001b[39;49;00m \u001b[39;49;00m\u001b[32mgcd\u001b[39;49;00m(\u001b[39;49;00ma\u001b[39;49;00m,\u001b[39;49;00mb\u001b[39;49;00m)\u001b[39;49;00m:\u001b[39;49;00m\n",
      " 21    \t            \u001b[39;49;00m\u001b[34mprint\u001b[39;49;00m(\u001b[39;49;00m\u001b[33m\"\u001b[39;49;00m\u001b[33m** Expecting an integer, got: \u001b[39;49;00m\u001b[33m%s\u001b[39;49;00m\u001b[33m\"\u001b[39;49;00m \u001b[39;49;00m%\u001b[39;49;00m \u001b[39;49;00m\u001b[36mrepr\u001b[39;49;00m(\u001b[39;49;00msys\u001b[39;49;00m.\u001b[39;49;00margv\u001b[39;49;00m[\u001b[39;49;00mi\u001b[39;49;00m]\u001b[39;49;00m)\u001b[39;49;00m)\u001b[39;49;00m\n",
      " 22    \t            \u001b[39;49;00msys\u001b[39;49;00m.\u001b[39;49;00mexit\u001b[39;49;00m(\u001b[39;49;00m\u001b[34m2\u001b[39;49;00m)\u001b[39;49;00m\n",
      " 23    \t            \u001b[39;49;00m\u001b[34mpass\u001b[39;49;00m\n",
      " 24    \t        \u001b[39;49;00m\u001b[34mpass\u001b[39;49;00m\n",
      " 25    \t\n",
      "\u001b[01m 26  ->\u001b[39;49;00m\t\u001b[34mdef\u001b[39;49;00m \u001b[39;49;00m\u001b[32mgcd\u001b[39;49;00m(\u001b[39;49;00ma\u001b[39;49;00m,\u001b[39;49;00mb\u001b[39;49;00m)\u001b[39;49;00m:\u001b[39;49;00m\n",
      " 27    \t    \u001b[39;49;00m\u001b[33m\"\"\" GCD. We assume positive numbers\"\"\"\u001b[39;49;00m\n",
      " 28    \t\n",
      " 29    \t    \u001b[39;49;00m\u001b[37m# Make: a <= b\u001b[39;49;00m\n",
      " 30    \t    \u001b[39;49;00m\u001b[34mif\u001b[39;49;00m \u001b[39;49;00ma\u001b[39;49;00m \u001b[39;49;00m>\u001b[39;49;00m \u001b[39;49;00mb\u001b[39;49;00m:\u001b[39;49;00m\n",
      "\u001b[04m(trepan3k)\u001b[39;49;00m continue\n",
      "The GCD of 3 and 5 is 1\n",
      "The program finished - quit or restart\n",
      "(/tmp/gcd.py:37): gcd\n",
      "xx 37         \u001b[39;49;00m\u001b[34mreturn\u001b[39;49;00m \u001b[39;49;00ma\u001b[39;49;00m\n",
      " 32    \t       \u001b[39;49;00m\u001b[34mpass\u001b[39;49;00m\n",
      " 33    \t\n",
      " 34    \t    \u001b[39;49;00m\u001b[34mif\u001b[39;49;00m \u001b[39;49;00ma\u001b[39;49;00m \u001b[39;49;00m<\u001b[39;49;00m=\u001b[39;49;00m \u001b[39;49;00m\u001b[34m0\u001b[39;49;00m:\u001b[39;49;00m\n",
      " 35    \t        \u001b[39;49;00m\u001b[34mreturn\u001b[39;49;00m \u001b[39;49;00m\u001b[36mNone\u001b[39;49;00m\n",
      " 36    \t    \u001b[39;49;00m\u001b[34mif\u001b[39;49;00m \u001b[39;49;00ma\u001b[39;49;00m \u001b[39;49;00m==\u001b[39;49;00m \u001b[39;49;00m\u001b[34m1\u001b[39;49;00m \u001b[39;49;00m\u001b[35mor\u001b[39;49;00m \u001b[39;49;00mb\u001b[39;49;00m-\u001b[39;49;00ma\u001b[39;49;00m \u001b[39;49;00m==\u001b[39;49;00m \u001b[39;49;00m\u001b[34m0\u001b[39;49;00m:\u001b[39;49;00m\n",
      "\u001b[01m 37  ->\u001b[39;49;00m\t        \u001b[39;49;00m\u001b[34mreturn\u001b[39;49;00m \u001b[39;49;00ma\u001b[39;49;00m\n",
      " 38    \t    \u001b[39;49;00m\u001b[34mreturn\u001b[39;49;00m \u001b[39;49;00mgcd\u001b[39;49;00m(\u001b[39;49;00mb\u001b[39;49;00m-\u001b[39;49;00ma\u001b[39;49;00m,\u001b[39;49;00m \u001b[39;49;00ma\u001b[39;49;00m)\u001b[39;49;00m\n",
      " 39    \t\n",
      " 40    \t\u001b[34mif\u001b[39;49;00m \u001b[39;49;00m__name__\u001b[39;49;00m==\u001b[39;49;00m\u001b[33m'\u001b[39;49;00m\u001b[33m__main__\u001b[39;49;00m\u001b[33m'\u001b[39;49;00m:\u001b[39;49;00m\n",
      " 41    \t    \u001b[39;49;00mcheck_args\u001b[39;49;00m(\u001b[39;49;00m)\u001b[39;49;00m\n",
      "\u001b[04m(trepan3k)\u001b[39;49;00m quit\n"
     ]
    }
   ],
   "source": [
    "%trepan /tmp/gcd.py 3 5"
   ]
  },
  {
   "cell_type": "code",
   "execution_count": null,
   "metadata": {
    "collapsed": true
   },
   "outputs": [],
   "source": []
  }
 ],
 "metadata": {
  "kernelspec": {
   "display_name": "Python 3",
   "language": "python",
   "name": "python3"
  },
  "language_info": {
   "codemirror_mode": {
    "name": "ipython",
    "version": 3
   },
   "file_extension": ".py",
   "mimetype": "text/x-python",
   "name": "python",
   "nbconvert_exporter": "python",
   "pygments_lexer": "ipython3",
   "version": "3.4.1"
  }
 },
 "nbformat": 4,
 "nbformat_minor": 0
}
