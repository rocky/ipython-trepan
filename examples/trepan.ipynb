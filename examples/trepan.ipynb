{
 "cells": [
  {
   "cell_type": "code",
   "execution_count": 1,
   "metadata": {
    "collapsed": false
   },
   "outputs": [
    {
     "name": "stdout",
     "output_type": "stream",
     "text": [
      "Installed trepanmagic.py. To use it, type:\n",
      "  %load_ext trepanmagic\n"
     ]
    }
   ],
   "source": [
    "%install_ext https://raw.github.com/rocky/ipython-trepan/master/trepanmagic.py"
   ]
  },
  {
   "cell_type": "code",
   "execution_count": 2,
   "metadata": {
    "collapsed": false
   },
   "outputs": [
    {
     "name": "stdout",
     "output_type": "stream",
     "text": [
      "\n",
      "trepanmagic.py loaded\n"
     ]
    }
   ],
   "source": [
    "%load_ext trepanmagic"
   ]
  },
  {
   "cell_type": "code",
   "execution_count": 3,
   "metadata": {
    "collapsed": false
   },
   "outputs": [
    {
     "name": "stdout",
     "output_type": "stream",
     "text": [
      "(/tmp/gcd.py:10): <module>\n",
      "-> 10 \u001b[33m\"\"\"\u001b[39;49;00m\n",
      "\u001b[04m(trepan3k)\u001b[39;49;00m set autolist on\n",
      "\u001b[04m(trepan3k)\u001b[39;49;00m n\n",
      "(/tmp/gcd.py:11): <module>\n",
      "-- 11 \u001b[34mimport\u001b[39;49;00m \u001b[39;49;00m\u001b[04m\u001b[36msys\u001b[39;49;00m\n",
      "  6    \t\n",
      "  7    \t\u001b[33mcheck_args() raises an uncaught exception when given the wrong number\u001b[39;49;00m\n",
      "  8    \t\u001b[33mof parameters.\u001b[39;49;00m\n",
      "  9    \t\n",
      " 10    \t\u001b[33m\"\"\"\u001b[39;49;00m\n",
      "\u001b[01m 11  ->\u001b[39;49;00m\t\u001b[34mimport\u001b[39;49;00m \u001b[39;49;00m\u001b[04m\u001b[36msys\u001b[39;49;00m\n",
      " 12    \t\n",
      " 13    \t\u001b[34mdef\u001b[39;49;00m \u001b[39;49;00m\u001b[32mcheck_args\u001b[39;49;00m(\u001b[39;49;00m)\u001b[39;49;00m:\u001b[39;49;00m\n",
      " 14    \t    \u001b[39;49;00m\u001b[34mif\u001b[39;49;00m \u001b[39;49;00m\u001b[36mlen\u001b[39;49;00m(\u001b[39;49;00msys\u001b[39;49;00m.\u001b[39;49;00margv\u001b[39;49;00m)\u001b[39;49;00m \u001b[39;49;00m!=\u001b[39;49;00m \u001b[39;49;00m\u001b[34m3\u001b[39;49;00m:\u001b[39;49;00m\n",
      " 15    \t        \u001b[39;49;00m\u001b[37m# Rather than use sys.exit let's just raise an error\u001b[39;49;00m\n",
      "\u001b[04m(trepan3k)\u001b[39;49;00m n\n",
      "(/tmp/gcd.py:40): <module>\n",
      "-- 40 \u001b[34mif\u001b[39;49;00m \u001b[39;49;00m__name__\u001b[39;49;00m==\u001b[39;49;00m\u001b[33m'\u001b[39;49;00m\u001b[33m__main__\u001b[39;49;00m\u001b[33m'\u001b[39;49;00m:\u001b[39;49;00m\n",
      " 35    \t        \u001b[39;49;00m\u001b[34mreturn\u001b[39;49;00m \u001b[39;49;00m\u001b[36mNone\u001b[39;49;00m\n",
      " 36    \t    \u001b[39;49;00m\u001b[34mif\u001b[39;49;00m \u001b[39;49;00ma\u001b[39;49;00m \u001b[39;49;00m==\u001b[39;49;00m \u001b[39;49;00m\u001b[34m1\u001b[39;49;00m \u001b[39;49;00m\u001b[35mor\u001b[39;49;00m \u001b[39;49;00mb\u001b[39;49;00m-\u001b[39;49;00ma\u001b[39;49;00m \u001b[39;49;00m==\u001b[39;49;00m \u001b[39;49;00m\u001b[34m0\u001b[39;49;00m:\u001b[39;49;00m\n",
      " 37    \t        \u001b[39;49;00m\u001b[34mreturn\u001b[39;49;00m \u001b[39;49;00ma\u001b[39;49;00m\n",
      " 38    \t    \u001b[39;49;00m\u001b[34mreturn\u001b[39;49;00m \u001b[39;49;00mgcd\u001b[39;49;00m(\u001b[39;49;00mb\u001b[39;49;00m-\u001b[39;49;00ma\u001b[39;49;00m,\u001b[39;49;00m \u001b[39;49;00ma\u001b[39;49;00m)\u001b[39;49;00m\n",
      " 39    \t\n",
      "\u001b[01m 40  ->\u001b[39;49;00m\t\u001b[34mif\u001b[39;49;00m \u001b[39;49;00m__name__\u001b[39;49;00m==\u001b[39;49;00m\u001b[33m'\u001b[39;49;00m\u001b[33m__main__\u001b[39;49;00m\u001b[33m'\u001b[39;49;00m:\u001b[39;49;00m\n",
      " 41    \t    \u001b[39;49;00mcheck_args\u001b[39;49;00m(\u001b[39;49;00m)\u001b[39;49;00m\n",
      " 42    \t\n",
      " 43    \t    \u001b[39;49;00m(\u001b[39;49;00ma\u001b[39;49;00m,\u001b[39;49;00m \u001b[39;49;00mb\u001b[39;49;00m)\u001b[39;49;00m \u001b[39;49;00m=\u001b[39;49;00m \u001b[39;49;00msys\u001b[39;49;00m.\u001b[39;49;00margv\u001b[39;49;00m[\u001b[39;49;00m\u001b[34m1\u001b[39;49;00m:\u001b[39;49;00m\u001b[34m3\u001b[39;49;00m]\u001b[39;49;00m\n",
      " 44    \t    \u001b[39;49;00m\u001b[34mprint\u001b[39;49;00m(\u001b[39;49;00m\u001b[33m\"\u001b[39;49;00m\u001b[33mThe GCD of \u001b[39;49;00m\u001b[33m%d\u001b[39;49;00m\u001b[33m and \u001b[39;49;00m\u001b[33m%d\u001b[39;49;00m\u001b[33m is \u001b[39;49;00m\u001b[33m%d\u001b[39;49;00m\u001b[33m\"\u001b[39;49;00m \u001b[39;49;00m%\u001b[39;49;00m \u001b[39;49;00m(\u001b[39;49;00ma\u001b[39;49;00m,\u001b[39;49;00m \u001b[39;49;00mb\u001b[39;49;00m,\u001b[39;49;00m \u001b[39;49;00mgcd\u001b[39;49;00m(\u001b[39;49;00ma\u001b[39;49;00m,\u001b[39;49;00m \u001b[39;49;00mb\u001b[39;49;00m)\u001b[39;49;00m)\u001b[39;49;00m)\u001b[39;49;00m\n",
      "\u001b[04m(trepan3k)\u001b[39;49;00m eval?\n",
      "eval: __name__=='__main__'\n"
     ]
    },
    {
     "data": {
      "text/plain": [
       "True"
      ]
     },
     "execution_count": 3,
     "metadata": {},
     "output_type": "execute_result"
    },
    {
     "name": "stdout",
     "output_type": "stream",
     "text": [
      "\u001b[04m(trepan3k)\u001b[39;49;00m continue gcd\n",
      "Breakpoint 1 set on calling function gcd()\n",
      "Currently this is line 26 of file /tmp/gcd.py\n",
      "(/tmp/gcd.py:26): gcd\n",
      "xx 26 \u001b[34mdef\u001b[39;49;00m \u001b[39;49;00m\u001b[32mgcd\u001b[39;49;00m(\u001b[39;49;00ma\u001b[39;49;00m,\u001b[39;49;00mb\u001b[39;49;00m)\u001b[39;49;00m:\u001b[39;49;00m\n",
      " 21    \t            \u001b[39;49;00m\u001b[34mprint\u001b[39;49;00m(\u001b[39;49;00m\u001b[33m\"\u001b[39;49;00m\u001b[33m** Expecting an integer, got: \u001b[39;49;00m\u001b[33m%s\u001b[39;49;00m\u001b[33m\"\u001b[39;49;00m \u001b[39;49;00m%\u001b[39;49;00m \u001b[39;49;00m\u001b[36mrepr\u001b[39;49;00m(\u001b[39;49;00msys\u001b[39;49;00m.\u001b[39;49;00margv\u001b[39;49;00m[\u001b[39;49;00mi\u001b[39;49;00m]\u001b[39;49;00m)\u001b[39;49;00m)\u001b[39;49;00m\n",
      " 22    \t            \u001b[39;49;00msys\u001b[39;49;00m.\u001b[39;49;00mexit\u001b[39;49;00m(\u001b[39;49;00m\u001b[34m2\u001b[39;49;00m)\u001b[39;49;00m\n",
      " 23    \t            \u001b[39;49;00m\u001b[34mpass\u001b[39;49;00m\n",
      " 24    \t        \u001b[39;49;00m\u001b[34mpass\u001b[39;49;00m\n",
      " 25    \t\n",
      "\u001b[01m 26  ->\u001b[39;49;00m\t\u001b[34mdef\u001b[39;49;00m \u001b[39;49;00m\u001b[32mgcd\u001b[39;49;00m(\u001b[39;49;00ma\u001b[39;49;00m,\u001b[39;49;00mb\u001b[39;49;00m)\u001b[39;49;00m:\u001b[39;49;00m\n",
      " 27    \t    \u001b[39;49;00m\u001b[33m\"\"\" GCD. We assume positive numbers\"\"\"\u001b[39;49;00m\n",
      " 28    \t\n",
      " 29    \t    \u001b[39;49;00m\u001b[37m# Make: a <= b\u001b[39;49;00m\n",
      " 30    \t    \u001b[39;49;00m\u001b[34mif\u001b[39;49;00m \u001b[39;49;00ma\u001b[39;49;00m \u001b[39;49;00m>\u001b[39;49;00m \u001b[39;49;00mb\u001b[39;49;00m:\u001b[39;49;00m\n",
      "\u001b[04m(trepan3k)\u001b[39;49;00m backtrace\n",
      "\u001b[31;01m->\u001b[39;49;00m0 \u001b[32;01mgcd\u001b[39;49;00m(a=3, b=5) called from file \u001b[36;01m'/tmp/gcd.py'\u001b[39;49;00m at line \u001b[34;01m26\u001b[39;49;00m\n",
      "##1 \u001b[32;01m<module>\u001b[39;49;00m \u001b[32;01m\u001b[32;01mexec\u001b[39;49;00m\u001b[39;49;00m()\n",
      "     \u001b[36;01m'/tmp/gcd.py'\u001b[39;49;00m at line \u001b[34;01m44\u001b[39;49;00m\n",
      "\u001b[04m(trepan3k)\u001b[39;49;00m continue\n"
     ]
    },
    {
     "ename": "KeyError",
     "evalue": "('/tmp/gcd.py', 26)",
     "output_type": "error",
     "traceback": [
      "\u001b[1;31m---------------------------------------------------------------------------\u001b[0m",
      "\u001b[1;31mKeyError\u001b[0m                                  Traceback (most recent call last)",
      "\u001b[1;32m<ipython-input-3-af90bc21296f>\u001b[0m in \u001b[0;36m<module>\u001b[1;34m()\u001b[0m\n\u001b[1;32m----> 1\u001b[1;33m \u001b[0mget_ipython\u001b[0m\u001b[1;33m(\u001b[0m\u001b[1;33m)\u001b[0m\u001b[1;33m.\u001b[0m\u001b[0mmagic\u001b[0m\u001b[1;33m(\u001b[0m\u001b[1;34m'trepan /tmp/gcd.py 3 5'\u001b[0m\u001b[1;33m)\u001b[0m\u001b[1;33m\u001b[0m\u001b[0m\n\u001b[0m",
      "\u001b[1;32m/home/rocky/.pyenv/versions/3.4.1/lib/python3.4/site-packages/IPython/core/interactiveshell.py\u001b[0m in \u001b[0;36mmagic\u001b[1;34m(self, arg_s)\u001b[0m\n\u001b[0;32m   2305\u001b[0m         \u001b[0mmagic_name\u001b[0m\u001b[1;33m,\u001b[0m \u001b[0m_\u001b[0m\u001b[1;33m,\u001b[0m \u001b[0mmagic_arg_s\u001b[0m \u001b[1;33m=\u001b[0m \u001b[0marg_s\u001b[0m\u001b[1;33m.\u001b[0m\u001b[0mpartition\u001b[0m\u001b[1;33m(\u001b[0m\u001b[1;34m' '\u001b[0m\u001b[1;33m)\u001b[0m\u001b[1;33m\u001b[0m\u001b[0m\n\u001b[0;32m   2306\u001b[0m         \u001b[0mmagic_name\u001b[0m \u001b[1;33m=\u001b[0m \u001b[0mmagic_name\u001b[0m\u001b[1;33m.\u001b[0m\u001b[0mlstrip\u001b[0m\u001b[1;33m(\u001b[0m\u001b[0mprefilter\u001b[0m\u001b[1;33m.\u001b[0m\u001b[0mESC_MAGIC\u001b[0m\u001b[1;33m)\u001b[0m\u001b[1;33m\u001b[0m\u001b[0m\n\u001b[1;32m-> 2307\u001b[1;33m         \u001b[1;32mreturn\u001b[0m \u001b[0mself\u001b[0m\u001b[1;33m.\u001b[0m\u001b[0mrun_line_magic\u001b[0m\u001b[1;33m(\u001b[0m\u001b[0mmagic_name\u001b[0m\u001b[1;33m,\u001b[0m \u001b[0mmagic_arg_s\u001b[0m\u001b[1;33m)\u001b[0m\u001b[1;33m\u001b[0m\u001b[0m\n\u001b[0m\u001b[0;32m   2308\u001b[0m \u001b[1;33m\u001b[0m\u001b[0m\n\u001b[0;32m   2309\u001b[0m     \u001b[1;31m#-------------------------------------------------------------------------\u001b[0m\u001b[1;33m\u001b[0m\u001b[1;33m\u001b[0m\u001b[0m\n",
      "\u001b[1;32m/home/rocky/.pyenv/versions/3.4.1/lib/python3.4/site-packages/IPython/core/interactiveshell.py\u001b[0m in \u001b[0;36mrun_line_magic\u001b[1;34m(self, magic_name, line)\u001b[0m\n\u001b[0;32m   2226\u001b[0m                 \u001b[0mkwargs\u001b[0m\u001b[1;33m[\u001b[0m\u001b[1;34m'local_ns'\u001b[0m\u001b[1;33m]\u001b[0m \u001b[1;33m=\u001b[0m \u001b[0msys\u001b[0m\u001b[1;33m.\u001b[0m\u001b[0m_getframe\u001b[0m\u001b[1;33m(\u001b[0m\u001b[0mstack_depth\u001b[0m\u001b[1;33m)\u001b[0m\u001b[1;33m.\u001b[0m\u001b[0mf_locals\u001b[0m\u001b[1;33m\u001b[0m\u001b[0m\n\u001b[0;32m   2227\u001b[0m             \u001b[1;32mwith\u001b[0m \u001b[0mself\u001b[0m\u001b[1;33m.\u001b[0m\u001b[0mbuiltin_trap\u001b[0m\u001b[1;33m:\u001b[0m\u001b[1;33m\u001b[0m\u001b[0m\n\u001b[1;32m-> 2228\u001b[1;33m                 \u001b[0mresult\u001b[0m \u001b[1;33m=\u001b[0m \u001b[0mfn\u001b[0m\u001b[1;33m(\u001b[0m\u001b[1;33m*\u001b[0m\u001b[0margs\u001b[0m\u001b[1;33m,\u001b[0m\u001b[1;33m**\u001b[0m\u001b[0mkwargs\u001b[0m\u001b[1;33m)\u001b[0m\u001b[1;33m\u001b[0m\u001b[0m\n\u001b[0m\u001b[0;32m   2229\u001b[0m             \u001b[1;32mreturn\u001b[0m \u001b[0mresult\u001b[0m\u001b[1;33m\u001b[0m\u001b[0m\n\u001b[0;32m   2230\u001b[0m \u001b[1;33m\u001b[0m\u001b[0m\n",
      "\u001b[1;32m/home/rocky/.ipython/extensions/trepanmagic.py\u001b[0m in \u001b[0;36mtrepan\u001b[1;34m(self, line)\u001b[0m\n",
      "\u001b[1;32m/home/rocky/.pyenv/versions/3.4.1/lib/python3.4/site-packages/IPython/core/magic.py\u001b[0m in \u001b[0;36m<lambda>\u001b[1;34m(f, *a, **k)\u001b[0m\n\u001b[0;32m    191\u001b[0m     \u001b[1;31m# but it's overkill for just that one bit of state.\u001b[0m\u001b[1;33m\u001b[0m\u001b[1;33m\u001b[0m\u001b[0m\n\u001b[0;32m    192\u001b[0m     \u001b[1;32mdef\u001b[0m \u001b[0mmagic_deco\u001b[0m\u001b[1;33m(\u001b[0m\u001b[0marg\u001b[0m\u001b[1;33m)\u001b[0m\u001b[1;33m:\u001b[0m\u001b[1;33m\u001b[0m\u001b[0m\n\u001b[1;32m--> 193\u001b[1;33m         \u001b[0mcall\u001b[0m \u001b[1;33m=\u001b[0m \u001b[1;32mlambda\u001b[0m \u001b[0mf\u001b[0m\u001b[1;33m,\u001b[0m \u001b[1;33m*\u001b[0m\u001b[0ma\u001b[0m\u001b[1;33m,\u001b[0m \u001b[1;33m**\u001b[0m\u001b[0mk\u001b[0m\u001b[1;33m:\u001b[0m \u001b[0mf\u001b[0m\u001b[1;33m(\u001b[0m\u001b[1;33m*\u001b[0m\u001b[0ma\u001b[0m\u001b[1;33m,\u001b[0m \u001b[1;33m**\u001b[0m\u001b[0mk\u001b[0m\u001b[1;33m)\u001b[0m\u001b[1;33m\u001b[0m\u001b[0m\n\u001b[0m\u001b[0;32m    194\u001b[0m \u001b[1;33m\u001b[0m\u001b[0m\n\u001b[0;32m    195\u001b[0m         \u001b[1;32mif\u001b[0m \u001b[0mcallable\u001b[0m\u001b[1;33m(\u001b[0m\u001b[0marg\u001b[0m\u001b[1;33m)\u001b[0m\u001b[1;33m:\u001b[0m\u001b[1;33m\u001b[0m\u001b[0m\n",
      "\u001b[1;32m/home/rocky/.ipython/extensions/trepanmagic.py\u001b[0m in \u001b[0;36mtrepan\u001b[1;34m(self, line)\u001b[0m\n\u001b[0;32m     91\u001b[0m         \u001b[0msys_argv\u001b[0m \u001b[1;33m=\u001b[0m \u001b[0mshlex\u001b[0m\u001b[1;33m.\u001b[0m\u001b[0msplit\u001b[0m\u001b[1;33m(\u001b[0m\u001b[1;34m'trepan --from_ipython '\u001b[0m \u001b[1;33m+\u001b[0m \u001b[0mline\u001b[0m\u001b[1;33m)\u001b[0m\u001b[1;33m\u001b[0m\u001b[0m\n\u001b[0;32m     92\u001b[0m         \u001b[1;32mtry\u001b[0m\u001b[1;33m:\u001b[0m\u001b[1;33m\u001b[0m\u001b[0m\n\u001b[1;32m---> 93\u001b[1;33m             \u001b[1;32mreturn\u001b[0m \u001b[0mtrepan\u001b[0m\u001b[1;33m.\u001b[0m\u001b[0mcli\u001b[0m\u001b[1;33m.\u001b[0m\u001b[0mmain\u001b[0m\u001b[1;33m(\u001b[0m\u001b[0msys_argv\u001b[0m\u001b[1;33m=\u001b[0m\u001b[0msys_argv\u001b[0m\u001b[1;33m)\u001b[0m\u001b[1;33m\u001b[0m\u001b[0m\n\u001b[0m\u001b[0;32m     94\u001b[0m         \u001b[1;32mexcept\u001b[0m \u001b[0mMexcept\u001b[0m\u001b[1;33m.\u001b[0m\u001b[0mDebuggerQuit\u001b[0m\u001b[1;33m:\u001b[0m\u001b[1;33m\u001b[0m\u001b[0m\n\u001b[0;32m     95\u001b[0m             \u001b[1;32mpass\u001b[0m\u001b[1;33m\u001b[0m\u001b[0m\n",
      "\u001b[1;32m/src/external-vcs/github/python3-trepan/trepan/cli.py\u001b[0m in \u001b[0;36mmain\u001b[1;34m(dbg, sys_argv)\u001b[0m\n\u001b[0;32m    131\u001b[0m         \u001b[1;32mtry\u001b[0m\u001b[1;33m:\u001b[0m\u001b[1;33m\u001b[0m\u001b[0m\n\u001b[0;32m    132\u001b[0m             \u001b[1;32mif\u001b[0m \u001b[0mdbg\u001b[0m\u001b[1;33m.\u001b[0m\u001b[0mprogram_sys_argv\u001b[0m \u001b[1;32mand\u001b[0m \u001b[0mmainpyfile\u001b[0m\u001b[1;33m:\u001b[0m\u001b[1;33m\u001b[0m\u001b[0m\n\u001b[1;32m--> 133\u001b[1;33m                 \u001b[0mnormal_termination\u001b[0m \u001b[1;33m=\u001b[0m \u001b[0mdbg\u001b[0m\u001b[1;33m.\u001b[0m\u001b[0mrun_script\u001b[0m\u001b[1;33m(\u001b[0m\u001b[0mmainpyfile\u001b[0m\u001b[1;33m)\u001b[0m\u001b[1;33m\u001b[0m\u001b[0m\n\u001b[0m\u001b[0;32m    134\u001b[0m                 \u001b[1;32mif\u001b[0m \u001b[1;32mnot\u001b[0m \u001b[0mnormal_termination\u001b[0m\u001b[1;33m:\u001b[0m \u001b[1;32mbreak\u001b[0m\u001b[1;33m\u001b[0m\u001b[0m\n\u001b[0;32m    135\u001b[0m             \u001b[1;32melse\u001b[0m\u001b[1;33m:\u001b[0m\u001b[1;33m\u001b[0m\u001b[0m\n",
      "\u001b[1;32m/src/external-vcs/github/python3-trepan/trepan/debugger.py\u001b[0m in \u001b[0;36mrun_script\u001b[1;34m(self, filename, start_opts, globals_, locals_)\u001b[0m\n\u001b[0;32m    216\u001b[0m                                self.mainpyfile, 'exec')\n\u001b[0;32m    217\u001b[0m             \u001b[0mself\u001b[0m\u001b[1;33m.\u001b[0m\u001b[0mcore\u001b[0m\u001b[1;33m.\u001b[0m\u001b[0mstart\u001b[0m\u001b[1;33m(\u001b[0m\u001b[0mstart_opts\u001b[0m\u001b[1;33m)\u001b[0m\u001b[1;33m\u001b[0m\u001b[0m\n\u001b[1;32m--> 218\u001b[1;33m             \u001b[0mexec\u001b[0m\u001b[1;33m(\u001b[0m\u001b[0mcompiled\u001b[0m\u001b[1;33m,\u001b[0m \u001b[0mglobals_\u001b[0m\u001b[1;33m,\u001b[0m \u001b[0mlocals_\u001b[0m\u001b[1;33m)\u001b[0m\u001b[1;33m\u001b[0m\u001b[0m\n\u001b[0m\u001b[0;32m    219\u001b[0m             \u001b[0mretval\u001b[0m \u001b[1;33m=\u001b[0m \u001b[1;32mTrue\u001b[0m\u001b[1;33m\u001b[0m\u001b[0m\n\u001b[0;32m    220\u001b[0m         \u001b[1;32mexcept\u001b[0m \u001b[0mSyntaxError\u001b[0m\u001b[1;33m:\u001b[0m\u001b[1;33m\u001b[0m\u001b[0m\n",
      "\u001b[1;32m/tmp/gcd.py\u001b[0m in \u001b[0;36m<module>\u001b[1;34m()\u001b[0m\n\u001b[0;32m     42\u001b[0m \u001b[1;33m\u001b[0m\u001b[0m\n\u001b[0;32m     43\u001b[0m     \u001b[1;33m(\u001b[0m\u001b[0ma\u001b[0m\u001b[1;33m,\u001b[0m \u001b[0mb\u001b[0m\u001b[1;33m)\u001b[0m \u001b[1;33m=\u001b[0m \u001b[0msys\u001b[0m\u001b[1;33m.\u001b[0m\u001b[0margv\u001b[0m\u001b[1;33m[\u001b[0m\u001b[1;36m1\u001b[0m\u001b[1;33m:\u001b[0m\u001b[1;36m3\u001b[0m\u001b[1;33m]\u001b[0m\u001b[1;33m\u001b[0m\u001b[0m\n\u001b[1;32m---> 44\u001b[1;33m     \u001b[0mprint\u001b[0m\u001b[1;33m(\u001b[0m\u001b[1;34m\"The GCD of %d and %d is %d\"\u001b[0m \u001b[1;33m%\u001b[0m \u001b[1;33m(\u001b[0m\u001b[0ma\u001b[0m\u001b[1;33m,\u001b[0m \u001b[0mb\u001b[0m\u001b[1;33m,\u001b[0m \u001b[0mgcd\u001b[0m\u001b[1;33m(\u001b[0m\u001b[0ma\u001b[0m\u001b[1;33m,\u001b[0m \u001b[0mb\u001b[0m\u001b[1;33m)\u001b[0m\u001b[1;33m)\u001b[0m\u001b[1;33m)\u001b[0m\u001b[1;33m\u001b[0m\u001b[0m\n\u001b[0m\u001b[0;32m     45\u001b[0m     \u001b[1;32mpass\u001b[0m\u001b[1;33m\u001b[0m\u001b[0m\n",
      "\u001b[1;32m/tmp/gcd.py\u001b[0m in \u001b[0;36mgcd\u001b[1;34m(a, b)\u001b[0m\n\u001b[0;32m     36\u001b[0m     \u001b[1;32mif\u001b[0m \u001b[0ma\u001b[0m \u001b[1;33m==\u001b[0m \u001b[1;36m1\u001b[0m \u001b[1;32mor\u001b[0m \u001b[0mb\u001b[0m\u001b[1;33m-\u001b[0m\u001b[0ma\u001b[0m \u001b[1;33m==\u001b[0m \u001b[1;36m0\u001b[0m\u001b[1;33m:\u001b[0m\u001b[1;33m\u001b[0m\u001b[0m\n\u001b[0;32m     37\u001b[0m         \u001b[1;32mreturn\u001b[0m \u001b[0ma\u001b[0m\u001b[1;33m\u001b[0m\u001b[0m\n\u001b[1;32m---> 38\u001b[1;33m     \u001b[1;32mreturn\u001b[0m \u001b[0mgcd\u001b[0m\u001b[1;33m(\u001b[0m\u001b[0mb\u001b[0m\u001b[1;33m-\u001b[0m\u001b[0ma\u001b[0m\u001b[1;33m,\u001b[0m \u001b[0ma\u001b[0m\u001b[1;33m)\u001b[0m\u001b[1;33m\u001b[0m\u001b[0m\n\u001b[0m\u001b[0;32m     39\u001b[0m \u001b[1;33m\u001b[0m\u001b[0m\n\u001b[0;32m     40\u001b[0m \u001b[1;32mif\u001b[0m \u001b[0m__name__\u001b[0m\u001b[1;33m==\u001b[0m\u001b[1;34m'__main__'\u001b[0m\u001b[1;33m:\u001b[0m\u001b[1;33m\u001b[0m\u001b[0m\n",
      "\u001b[1;32m/tmp/gcd.py\u001b[0m in \u001b[0;36mgcd\u001b[1;34m(a, b)\u001b[0m\n\u001b[0;32m     24\u001b[0m         \u001b[1;32mpass\u001b[0m\u001b[1;33m\u001b[0m\u001b[0m\n\u001b[0;32m     25\u001b[0m \u001b[1;33m\u001b[0m\u001b[0m\n\u001b[1;32m---> 26\u001b[1;33m \u001b[1;32mdef\u001b[0m \u001b[0mgcd\u001b[0m\u001b[1;33m(\u001b[0m\u001b[0ma\u001b[0m\u001b[1;33m,\u001b[0m\u001b[0mb\u001b[0m\u001b[1;33m)\u001b[0m\u001b[1;33m:\u001b[0m\u001b[1;33m\u001b[0m\u001b[0m\n\u001b[0m\u001b[0;32m     27\u001b[0m     \u001b[1;34m\"\"\" GCD. We assume positive numbers\"\"\"\u001b[0m\u001b[1;33m\u001b[0m\u001b[0m\n\u001b[0;32m     28\u001b[0m \u001b[1;33m\u001b[0m\u001b[0m\n",
      "\u001b[1;32m/home/rocky/.pyenv/versions/3.4.1/lib/python3.4/site-packages/tracer-0.3.2-py3.4.egg/tracer.py\u001b[0m in \u001b[0;36m_tracer_func\u001b[1;34m(frame, event, arg)\u001b[0m\n\u001b[0;32m    121\u001b[0m         \u001b[1;32mif\u001b[0m \u001b[0mhook\u001b[0m\u001b[1;33m.\u001b[0m\u001b[0mignore_frameid\u001b[0m \u001b[1;33m==\u001b[0m \u001b[0mid\u001b[0m\u001b[1;33m(\u001b[0m\u001b[0mframe\u001b[0m\u001b[1;33m)\u001b[0m\u001b[1;33m:\u001b[0m \u001b[1;32mcontinue\u001b[0m\u001b[1;33m\u001b[0m\u001b[0m\n\u001b[0;32m    122\u001b[0m         \u001b[1;32mif\u001b[0m \u001b[0mhook\u001b[0m\u001b[1;33m.\u001b[0m\u001b[0mevent_set\u001b[0m \u001b[1;32mis\u001b[0m \u001b[1;32mNone\u001b[0m \u001b[1;32mor\u001b[0m \u001b[0mevent\u001b[0m \u001b[1;32min\u001b[0m \u001b[0mhook\u001b[0m\u001b[1;33m.\u001b[0m\u001b[0mevent_set\u001b[0m\u001b[1;33m:\u001b[0m\u001b[1;33m\u001b[0m\u001b[0m\n\u001b[1;32m--> 123\u001b[1;33m             \u001b[1;32mif\u001b[0m \u001b[1;32mnot\u001b[0m \u001b[0mhook\u001b[0m\u001b[1;33m.\u001b[0m\u001b[0mtrace_fn\u001b[0m\u001b[1;33m(\u001b[0m\u001b[0mframe\u001b[0m\u001b[1;33m,\u001b[0m \u001b[0mevent\u001b[0m\u001b[1;33m,\u001b[0m \u001b[0marg\u001b[0m\u001b[1;33m)\u001b[0m\u001b[1;33m:\u001b[0m\u001b[1;33m\u001b[0m\u001b[0m\n\u001b[0m\u001b[0;32m    124\u001b[0m                 \u001b[1;31m# sys.settrace's semantics provide that a if trace\u001b[0m\u001b[1;33m\u001b[0m\u001b[1;33m\u001b[0m\u001b[0m\n\u001b[0;32m    125\u001b[0m                 \u001b[1;31m# hook returns None or False, it should turn off\u001b[0m\u001b[1;33m\u001b[0m\u001b[1;33m\u001b[0m\u001b[0m\n",
      "\u001b[1;32m/src/external-vcs/github/python3-trepan/trepan/lib/core.py\u001b[0m in \u001b[0;36mtrace_dispatch\u001b[1;34m(self, frame, event, arg)\u001b[0m\n\u001b[0;32m    438\u001b[0m             \u001b[1;31m# updates.\u001b[0m\u001b[1;33m\u001b[0m\u001b[1;33m\u001b[0m\u001b[0m\n\u001b[0;32m    439\u001b[0m             if ( self.is_stop_here(frame, event, arg) or\n\u001b[1;32m--> 440\u001b[1;33m                  self.is_break_here(frame, arg) ):\n\u001b[0m\u001b[0;32m    441\u001b[0m                 \u001b[1;31m# Run the event processor\u001b[0m\u001b[1;33m\u001b[0m\u001b[1;33m\u001b[0m\u001b[0m\n\u001b[0;32m    442\u001b[0m                 \u001b[1;32mreturn\u001b[0m \u001b[0mself\u001b[0m\u001b[1;33m.\u001b[0m\u001b[0mprocessor\u001b[0m\u001b[1;33m.\u001b[0m\u001b[0mevent_processor\u001b[0m\u001b[1;33m(\u001b[0m\u001b[0mframe\u001b[0m\u001b[1;33m,\u001b[0m \u001b[0mself\u001b[0m\u001b[1;33m.\u001b[0m\u001b[0mevent\u001b[0m\u001b[1;33m,\u001b[0m \u001b[0marg\u001b[0m\u001b[1;33m)\u001b[0m\u001b[1;33m\u001b[0m\u001b[0m\n",
      "\u001b[1;32m/src/external-vcs/github/python3-trepan/trepan/lib/core.py\u001b[0m in \u001b[0;36mis_break_here\u001b[1;34m(self, frame, arg)\u001b[0m\n\u001b[0;32m    277\u001b[0m                     \u001b[1;32mif\u001b[0m \u001b[0mbp\u001b[0m\u001b[1;33m.\u001b[0m\u001b[0mtemporary\u001b[0m\u001b[1;33m:\u001b[0m\u001b[1;33m\u001b[0m\u001b[0m\n\u001b[0;32m    278\u001b[0m                         \u001b[0mmsg\u001b[0m \u001b[1;33m=\u001b[0m \u001b[1;34m'temporary '\u001b[0m\u001b[1;33m\u001b[0m\u001b[0m\n\u001b[1;32m--> 279\u001b[1;33m                         \u001b[0mself\u001b[0m\u001b[1;33m.\u001b[0m\u001b[0mbpmgr\u001b[0m\u001b[1;33m.\u001b[0m\u001b[0mdelete_breakpoint\u001b[0m\u001b[1;33m(\u001b[0m\u001b[0mbp\u001b[0m\u001b[1;33m)\u001b[0m\u001b[1;33m\u001b[0m\u001b[0m\n\u001b[0m\u001b[0;32m    280\u001b[0m                     \u001b[1;32melse\u001b[0m\u001b[1;33m:\u001b[0m\u001b[1;33m\u001b[0m\u001b[0m\n\u001b[0;32m    281\u001b[0m                         \u001b[0mmsg\u001b[0m \u001b[1;33m=\u001b[0m \u001b[1;34m''\u001b[0m\u001b[1;33m\u001b[0m\u001b[0m\n",
      "\u001b[1;32m/src/external-vcs/github/python3-trepan/trepan/lib/breakpoint.py\u001b[0m in \u001b[0;36mdelete_breakpoint\u001b[1;34m(self, bp)\u001b[0m\n\u001b[0;32m     78\u001b[0m         \u001b[0mself\u001b[0m\u001b[1;33m.\u001b[0m\u001b[0mbpbynumber\u001b[0m\u001b[1;33m[\u001b[0m\u001b[0mbpnum\u001b[0m\u001b[1;33m]\u001b[0m \u001b[1;33m=\u001b[0m \u001b[1;32mNone\u001b[0m   \u001b[1;31m# No longer in list\u001b[0m\u001b[1;33m\u001b[0m\u001b[0m\n\u001b[0;32m     79\u001b[0m         \u001b[0mindex\u001b[0m \u001b[1;33m=\u001b[0m \u001b[1;33m(\u001b[0m\u001b[0mbp\u001b[0m\u001b[1;33m.\u001b[0m\u001b[0mfilename\u001b[0m\u001b[1;33m,\u001b[0m \u001b[0mbp\u001b[0m\u001b[1;33m.\u001b[0m\u001b[0mline\u001b[0m\u001b[1;33m)\u001b[0m\u001b[1;33m\u001b[0m\u001b[0m\n\u001b[1;32m---> 80\u001b[1;33m         \u001b[0mself\u001b[0m\u001b[1;33m.\u001b[0m\u001b[0mbplist\u001b[0m\u001b[1;33m[\u001b[0m\u001b[0mindex\u001b[0m\u001b[1;33m]\u001b[0m\u001b[1;33m.\u001b[0m\u001b[0mremove\u001b[0m\u001b[1;33m(\u001b[0m\u001b[0mbp\u001b[0m\u001b[1;33m)\u001b[0m\u001b[1;33m\u001b[0m\u001b[0m\n\u001b[0m\u001b[0;32m     81\u001b[0m         \u001b[1;32mif\u001b[0m \u001b[1;32mnot\u001b[0m \u001b[0mself\u001b[0m\u001b[1;33m.\u001b[0m\u001b[0mbplist\u001b[0m\u001b[1;33m[\u001b[0m\u001b[0mindex\u001b[0m\u001b[1;33m]\u001b[0m\u001b[1;33m:\u001b[0m\u001b[1;33m\u001b[0m\u001b[0m\n\u001b[0;32m     82\u001b[0m             \u001b[1;31m# No more breakpoints for this file:line combo\u001b[0m\u001b[1;33m\u001b[0m\u001b[1;33m\u001b[0m\u001b[0m\n",
      "\u001b[1;31mKeyError\u001b[0m: ('/tmp/gcd.py', 26)"
     ]
    }
   ],
   "source": [
    "%trepan /tmp/gcd.py 3 5"
   ]
  },
  {
   "cell_type": "code",
   "execution_count": 4,
   "metadata": {
    "collapsed": false
   },
   "outputs": [
    {
     "name": "stdout",
     "output_type": "stream",
     "text": [
      "(/tmp/gcd.py:10): <module>\n",
      "-> 10 \u001b[33m\"\"\"\u001b[39;49;00m\n",
      "\u001b[04m(trepan3k)\u001b[39;49;00m set autolist on\n",
      "\u001b[04m(trepan3k)\u001b[39;49;00m next\n",
      "(/tmp/gcd.py:11): <module>\n",
      "-- 11 \u001b[34mimport\u001b[39;49;00m \u001b[39;49;00m\u001b[04m\u001b[36msys\u001b[39;49;00m\n",
      "  6    \t\n",
      "  7    \t\u001b[33mcheck_args() raises an uncaught exception when given the wrong number\u001b[39;49;00m\n",
      "  8    \t\u001b[33mof parameters.\u001b[39;49;00m\n",
      "  9    \t\n",
      " 10    \t\u001b[33m\"\"\"\u001b[39;49;00m\n",
      "\u001b[01m 11  ->\u001b[39;49;00m\t\u001b[34mimport\u001b[39;49;00m \u001b[39;49;00m\u001b[04m\u001b[36msys\u001b[39;49;00m\n",
      " 12    \t\n",
      " 13    \t\u001b[34mdef\u001b[39;49;00m \u001b[39;49;00m\u001b[32mcheck_args\u001b[39;49;00m(\u001b[39;49;00m)\u001b[39;49;00m:\u001b[39;49;00m\n",
      " 14    \t    \u001b[39;49;00m\u001b[34mif\u001b[39;49;00m \u001b[39;49;00m\u001b[36mlen\u001b[39;49;00m(\u001b[39;49;00msys\u001b[39;49;00m.\u001b[39;49;00margv\u001b[39;49;00m)\u001b[39;49;00m \u001b[39;49;00m!=\u001b[39;49;00m \u001b[39;49;00m\u001b[34m3\u001b[39;49;00m:\u001b[39;49;00m\n",
      " 15    \t        \u001b[39;49;00m\u001b[37m# Rather than use sys.exit let's just raise an error\u001b[39;49;00m\n",
      "\u001b[04m(trepan3k)\u001b[39;49;00m next\n",
      "(/tmp/gcd.py:40): <module>\n",
      "-- 40 \u001b[34mif\u001b[39;49;00m \u001b[39;49;00m__name__\u001b[39;49;00m==\u001b[39;49;00m\u001b[33m'\u001b[39;49;00m\u001b[33m__main__\u001b[39;49;00m\u001b[33m'\u001b[39;49;00m:\u001b[39;49;00m\n",
      " 35    \t        \u001b[39;49;00m\u001b[34mreturn\u001b[39;49;00m \u001b[39;49;00m\u001b[36mNone\u001b[39;49;00m\n",
      " 36    \t    \u001b[39;49;00m\u001b[34mif\u001b[39;49;00m \u001b[39;49;00ma\u001b[39;49;00m \u001b[39;49;00m==\u001b[39;49;00m \u001b[39;49;00m\u001b[34m1\u001b[39;49;00m \u001b[39;49;00m\u001b[35mor\u001b[39;49;00m \u001b[39;49;00mb\u001b[39;49;00m-\u001b[39;49;00ma\u001b[39;49;00m \u001b[39;49;00m==\u001b[39;49;00m \u001b[39;49;00m\u001b[34m0\u001b[39;49;00m:\u001b[39;49;00m\n",
      " 37    \t        \u001b[39;49;00m\u001b[34mreturn\u001b[39;49;00m \u001b[39;49;00ma\u001b[39;49;00m\n",
      " 38    \t    \u001b[39;49;00m\u001b[34mreturn\u001b[39;49;00m \u001b[39;49;00mgcd\u001b[39;49;00m(\u001b[39;49;00mb\u001b[39;49;00m-\u001b[39;49;00ma\u001b[39;49;00m,\u001b[39;49;00m \u001b[39;49;00ma\u001b[39;49;00m)\u001b[39;49;00m\n",
      " 39    \t\n",
      "\u001b[01m 40  ->\u001b[39;49;00m\t\u001b[34mif\u001b[39;49;00m \u001b[39;49;00m__name__\u001b[39;49;00m==\u001b[39;49;00m\u001b[33m'\u001b[39;49;00m\u001b[33m__main__\u001b[39;49;00m\u001b[33m'\u001b[39;49;00m:\u001b[39;49;00m\n",
      " 41    \t    \u001b[39;49;00mcheck_args\u001b[39;49;00m(\u001b[39;49;00m)\u001b[39;49;00m\n",
      " 42    \t\n",
      " 43    \t    \u001b[39;49;00m(\u001b[39;49;00ma\u001b[39;49;00m,\u001b[39;49;00m \u001b[39;49;00mb\u001b[39;49;00m)\u001b[39;49;00m \u001b[39;49;00m=\u001b[39;49;00m \u001b[39;49;00msys\u001b[39;49;00m.\u001b[39;49;00margv\u001b[39;49;00m[\u001b[39;49;00m\u001b[34m1\u001b[39;49;00m:\u001b[39;49;00m\u001b[34m3\u001b[39;49;00m]\u001b[39;49;00m\n",
      " 44    \t    \u001b[39;49;00m\u001b[34mprint\u001b[39;49;00m(\u001b[39;49;00m\u001b[33m\"\u001b[39;49;00m\u001b[33mThe GCD of \u001b[39;49;00m\u001b[33m%d\u001b[39;49;00m\u001b[33m and \u001b[39;49;00m\u001b[33m%d\u001b[39;49;00m\u001b[33m is \u001b[39;49;00m\u001b[33m%d\u001b[39;49;00m\u001b[33m\"\u001b[39;49;00m \u001b[39;49;00m%\u001b[39;49;00m \u001b[39;49;00m(\u001b[39;49;00ma\u001b[39;49;00m,\u001b[39;49;00m \u001b[39;49;00mb\u001b[39;49;00m,\u001b[39;49;00m \u001b[39;49;00mgcd\u001b[39;49;00m(\u001b[39;49;00ma\u001b[39;49;00m,\u001b[39;49;00m \u001b[39;49;00mb\u001b[39;49;00m)\u001b[39;49;00m)\u001b[39;49;00m)\u001b[39;49;00m\n",
      "\u001b[04m(trepan3k)\u001b[39;49;00m eval?\n",
      "eval: __name__=='__main__'\n"
     ]
    },
    {
     "data": {
      "text/plain": [
       "True"
      ]
     },
     "execution_count": 4,
     "metadata": {},
     "output_type": "execute_result"
    },
    {
     "name": "stdout",
     "output_type": "stream",
     "text": [
      "\u001b[04m(trepan3k)\u001b[39;49;00m break gcd\n",
      "Breakpoint 1 set on calling function gcd()\n",
      "Currently this is line 26 of file /tmp/gcd.py\n",
      "\u001b[04m(trepan3k)\u001b[39;49;00m continue\n",
      "(/tmp/gcd.py:26): gcd\n",
      "xx 26 \u001b[34mdef\u001b[39;49;00m \u001b[39;49;00m\u001b[32mgcd\u001b[39;49;00m(\u001b[39;49;00ma\u001b[39;49;00m,\u001b[39;49;00mb\u001b[39;49;00m)\u001b[39;49;00m:\u001b[39;49;00m\n",
      " 21    \t            \u001b[39;49;00m\u001b[34mprint\u001b[39;49;00m(\u001b[39;49;00m\u001b[33m\"\u001b[39;49;00m\u001b[33m** Expecting an integer, got: \u001b[39;49;00m\u001b[33m%s\u001b[39;49;00m\u001b[33m\"\u001b[39;49;00m \u001b[39;49;00m%\u001b[39;49;00m \u001b[39;49;00m\u001b[36mrepr\u001b[39;49;00m(\u001b[39;49;00msys\u001b[39;49;00m.\u001b[39;49;00margv\u001b[39;49;00m[\u001b[39;49;00mi\u001b[39;49;00m]\u001b[39;49;00m)\u001b[39;49;00m)\u001b[39;49;00m\n",
      " 22    \t            \u001b[39;49;00msys\u001b[39;49;00m.\u001b[39;49;00mexit\u001b[39;49;00m(\u001b[39;49;00m\u001b[34m2\u001b[39;49;00m)\u001b[39;49;00m\n",
      " 23    \t            \u001b[39;49;00m\u001b[34mpass\u001b[39;49;00m\n",
      " 24    \t        \u001b[39;49;00m\u001b[34mpass\u001b[39;49;00m\n",
      " 25    \t\n",
      "\u001b[01m 26 B->\u001b[39;49;00m\t\u001b[34mdef\u001b[39;49;00m \u001b[39;49;00m\u001b[32mgcd\u001b[39;49;00m(\u001b[39;49;00ma\u001b[39;49;00m,\u001b[39;49;00mb\u001b[39;49;00m)\u001b[39;49;00m:\u001b[39;49;00m\n",
      " 27    \t    \u001b[39;49;00m\u001b[33m\"\"\" GCD. We assume positive numbers\"\"\"\u001b[39;49;00m\n",
      " 28    \t\n",
      " 29    \t    \u001b[39;49;00m\u001b[37m# Make: a <= b\u001b[39;49;00m\n",
      " 30    \t    \u001b[39;49;00m\u001b[34mif\u001b[39;49;00m \u001b[39;49;00ma\u001b[39;49;00m \u001b[39;49;00m>\u001b[39;49;00m \u001b[39;49;00mb\u001b[39;49;00m:\u001b[39;49;00m\n",
      "\u001b[04m(trepan3k)\u001b[39;49;00m backtrace\n",
      "\u001b[31;01m->\u001b[39;49;00m0 \u001b[32;01mgcd\u001b[39;49;00m(a=3, b=5) called from file \u001b[36;01m'/tmp/gcd.py'\u001b[39;49;00m at line \u001b[34;01m26\u001b[39;49;00m\n",
      "##1 \u001b[32;01m<module>\u001b[39;49;00m \u001b[32;01m\u001b[32;01mexec\u001b[39;49;00m\u001b[39;49;00m()\n",
      "     \u001b[36;01m'/tmp/gcd.py'\u001b[39;49;00m at line \u001b[34;01m44\u001b[39;49;00m\n",
      "\u001b[04m(trepan3k)\u001b[39;49;00m continue\n",
      "(/tmp/gcd.py:26): gcd\n",
      "xx 26 \u001b[34mdef\u001b[39;49;00m \u001b[39;49;00m\u001b[32mgcd\u001b[39;49;00m(\u001b[39;49;00ma\u001b[39;49;00m,\u001b[39;49;00mb\u001b[39;49;00m)\u001b[39;49;00m:\u001b[39;49;00m\n",
      " 21    \t            \u001b[39;49;00m\u001b[34mprint\u001b[39;49;00m(\u001b[39;49;00m\u001b[33m\"\u001b[39;49;00m\u001b[33m** Expecting an integer, got: \u001b[39;49;00m\u001b[33m%s\u001b[39;49;00m\u001b[33m\"\u001b[39;49;00m \u001b[39;49;00m%\u001b[39;49;00m \u001b[39;49;00m\u001b[36mrepr\u001b[39;49;00m(\u001b[39;49;00msys\u001b[39;49;00m.\u001b[39;49;00margv\u001b[39;49;00m[\u001b[39;49;00mi\u001b[39;49;00m]\u001b[39;49;00m)\u001b[39;49;00m)\u001b[39;49;00m\n",
      " 22    \t            \u001b[39;49;00msys\u001b[39;49;00m.\u001b[39;49;00mexit\u001b[39;49;00m(\u001b[39;49;00m\u001b[34m2\u001b[39;49;00m)\u001b[39;49;00m\n",
      " 23    \t            \u001b[39;49;00m\u001b[34mpass\u001b[39;49;00m\n",
      " 24    \t        \u001b[39;49;00m\u001b[34mpass\u001b[39;49;00m\n",
      " 25    \t\n",
      "\u001b[01m 26 B->\u001b[39;49;00m\t\u001b[34mdef\u001b[39;49;00m \u001b[39;49;00m\u001b[32mgcd\u001b[39;49;00m(\u001b[39;49;00ma\u001b[39;49;00m,\u001b[39;49;00mb\u001b[39;49;00m)\u001b[39;49;00m:\u001b[39;49;00m\n",
      " 27    \t    \u001b[39;49;00m\u001b[33m\"\"\" GCD. We assume positive numbers\"\"\"\u001b[39;49;00m\n",
      " 28    \t\n",
      " 29    \t    \u001b[39;49;00m\u001b[37m# Make: a <= b\u001b[39;49;00m\n",
      " 30    \t    \u001b[39;49;00m\u001b[34mif\u001b[39;49;00m \u001b[39;49;00ma\u001b[39;49;00m \u001b[39;49;00m>\u001b[39;49;00m \u001b[39;49;00mb\u001b[39;49;00m:\u001b[39;49;00m\n",
      "\u001b[04m(trepan3k)\u001b[39;49;00m backtrace\n",
      "\u001b[31;01m->\u001b[39;49;00m0 \u001b[32;01mgcd\u001b[39;49;00m(a=2, b=3) called from file \u001b[36;01m'/tmp/gcd.py'\u001b[39;49;00m at line \u001b[34;01m26\u001b[39;49;00m\n",
      "##1 \u001b[32;01mgcd\u001b[39;49;00m(a=3, b=5) called from file \u001b[36;01m'/tmp/gcd.py'\u001b[39;49;00m at line \u001b[34;01m38\u001b[39;49;00m\n",
      "##2 \u001b[32;01m<module>\u001b[39;49;00m \u001b[32;01m\u001b[32;01mexec\u001b[39;49;00m\u001b[39;49;00m()\n",
      "     \u001b[36;01m'/tmp/gcd.py'\u001b[39;49;00m at line \u001b[34;01m44\u001b[39;49;00m\n",
      "\u001b[04m(trepan3k)\u001b[39;49;00m delete 1\n",
      "Deleted breakpoint 1\n",
      "\u001b[04m(trepan3k)\u001b[39;49;00m continue\n",
      "(/tmp/gcd.py:26): gcd\n",
      "xx 26 \u001b[34mdef\u001b[39;49;00m \u001b[39;49;00m\u001b[32mgcd\u001b[39;49;00m(\u001b[39;49;00ma\u001b[39;49;00m,\u001b[39;49;00mb\u001b[39;49;00m)\u001b[39;49;00m:\u001b[39;49;00m\n",
      " 21    \t            \u001b[39;49;00m\u001b[34mprint\u001b[39;49;00m(\u001b[39;49;00m\u001b[33m\"\u001b[39;49;00m\u001b[33m** Expecting an integer, got: \u001b[39;49;00m\u001b[33m%s\u001b[39;49;00m\u001b[33m\"\u001b[39;49;00m \u001b[39;49;00m%\u001b[39;49;00m \u001b[39;49;00m\u001b[36mrepr\u001b[39;49;00m(\u001b[39;49;00msys\u001b[39;49;00m.\u001b[39;49;00margv\u001b[39;49;00m[\u001b[39;49;00mi\u001b[39;49;00m]\u001b[39;49;00m)\u001b[39;49;00m)\u001b[39;49;00m\n",
      " 22    \t            \u001b[39;49;00msys\u001b[39;49;00m.\u001b[39;49;00mexit\u001b[39;49;00m(\u001b[39;49;00m\u001b[34m2\u001b[39;49;00m)\u001b[39;49;00m\n",
      " 23    \t            \u001b[39;49;00m\u001b[34mpass\u001b[39;49;00m\n",
      " 24    \t        \u001b[39;49;00m\u001b[34mpass\u001b[39;49;00m\n",
      " 25    \t\n",
      "\u001b[01m 26  ->\u001b[39;49;00m\t\u001b[34mdef\u001b[39;49;00m \u001b[39;49;00m\u001b[32mgcd\u001b[39;49;00m(\u001b[39;49;00ma\u001b[39;49;00m,\u001b[39;49;00mb\u001b[39;49;00m)\u001b[39;49;00m:\u001b[39;49;00m\n",
      " 27    \t    \u001b[39;49;00m\u001b[33m\"\"\" GCD. We assume positive numbers\"\"\"\u001b[39;49;00m\n",
      " 28    \t\n",
      " 29    \t    \u001b[39;49;00m\u001b[37m# Make: a <= b\u001b[39;49;00m\n",
      " 30    \t    \u001b[39;49;00m\u001b[34mif\u001b[39;49;00m \u001b[39;49;00ma\u001b[39;49;00m \u001b[39;49;00m>\u001b[39;49;00m \u001b[39;49;00mb\u001b[39;49;00m:\u001b[39;49;00m\n",
      "\u001b[04m(trepan3k)\u001b[39;49;00m continue\n",
      "The GCD of 3 and 5 is 1\n",
      "The program finished - quit or restart\n",
      "(/tmp/gcd.py:37): gcd\n",
      "xx 37         \u001b[39;49;00m\u001b[34mreturn\u001b[39;49;00m \u001b[39;49;00ma\u001b[39;49;00m\n",
      " 32    \t       \u001b[39;49;00m\u001b[34mpass\u001b[39;49;00m\n",
      " 33    \t\n",
      " 34    \t    \u001b[39;49;00m\u001b[34mif\u001b[39;49;00m \u001b[39;49;00ma\u001b[39;49;00m \u001b[39;49;00m<\u001b[39;49;00m=\u001b[39;49;00m \u001b[39;49;00m\u001b[34m0\u001b[39;49;00m:\u001b[39;49;00m\n",
      " 35    \t        \u001b[39;49;00m\u001b[34mreturn\u001b[39;49;00m \u001b[39;49;00m\u001b[36mNone\u001b[39;49;00m\n",
      " 36    \t    \u001b[39;49;00m\u001b[34mif\u001b[39;49;00m \u001b[39;49;00ma\u001b[39;49;00m \u001b[39;49;00m==\u001b[39;49;00m \u001b[39;49;00m\u001b[34m1\u001b[39;49;00m \u001b[39;49;00m\u001b[35mor\u001b[39;49;00m \u001b[39;49;00mb\u001b[39;49;00m-\u001b[39;49;00ma\u001b[39;49;00m \u001b[39;49;00m==\u001b[39;49;00m \u001b[39;49;00m\u001b[34m0\u001b[39;49;00m:\u001b[39;49;00m\n",
      "\u001b[01m 37  ->\u001b[39;49;00m\t        \u001b[39;49;00m\u001b[34mreturn\u001b[39;49;00m \u001b[39;49;00ma\u001b[39;49;00m\n",
      " 38    \t    \u001b[39;49;00m\u001b[34mreturn\u001b[39;49;00m \u001b[39;49;00mgcd\u001b[39;49;00m(\u001b[39;49;00mb\u001b[39;49;00m-\u001b[39;49;00ma\u001b[39;49;00m,\u001b[39;49;00m \u001b[39;49;00ma\u001b[39;49;00m)\u001b[39;49;00m\n",
      " 39    \t\n",
      " 40    \t\u001b[34mif\u001b[39;49;00m \u001b[39;49;00m__name__\u001b[39;49;00m==\u001b[39;49;00m\u001b[33m'\u001b[39;49;00m\u001b[33m__main__\u001b[39;49;00m\u001b[33m'\u001b[39;49;00m:\u001b[39;49;00m\n",
      " 41    \t    \u001b[39;49;00mcheck_args\u001b[39;49;00m(\u001b[39;49;00m)\u001b[39;49;00m\n",
      "\u001b[04m(trepan3k)\u001b[39;49;00m quit\n"
     ]
    }
   ],
   "source": [
    "%trepan /tmp/gcd.py 3 5"
   ]
  },
  {
   "cell_type": "code",
   "execution_count": null,
   "metadata": {
    "collapsed": true
   },
   "outputs": [],
   "source": []
  }
 ],
 "metadata": {
  "kernelspec": {
   "display_name": "Python 3",
   "language": "python",
   "name": "python3"
  },
  "language_info": {
   "codemirror_mode": {
    "name": "ipython",
    "version": 3
   },
   "file_extension": ".py",
   "mimetype": "text/x-python",
   "name": "python",
   "nbconvert_exporter": "python",
   "pygments_lexer": "ipython3",
   "version": "3.4.1"
  }
 },
 "nbformat": 4,
 "nbformat_minor": 0
}
