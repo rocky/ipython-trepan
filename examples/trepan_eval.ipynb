{
 "cells": [
  {
   "cell_type": "code",
   "execution_count": 1,
   "metadata": {
    "collapsed": false
   },
   "outputs": [
    {
     "name": "stdout",
     "output_type": "stream",
     "text": [
      "Installed trepanmagic.py. To use it, type:\n",
      "  %load_ext trepanmagic\n"
     ]
    }
   ],
   "source": [
    "%install_ext https://raw.github.com/rocky/ipython-trepan/master/trepanmagic.py"
   ]
  },
  {
   "cell_type": "code",
   "execution_count": 2,
   "metadata": {
    "collapsed": false
   },
   "outputs": [
    {
     "name": "stdout",
     "output_type": "stream",
     "text": [
      "\n",
      "trepanmagic.py loaded\n"
     ]
    }
   ],
   "source": [
    "%load_ext trepanmagic"
   ]
  },
  {
   "cell_type": "code",
   "execution_count": 3,
   "metadata": {
    "collapsed": true
   },
   "outputs": [],
   "source": [
    "import os"
   ]
  },
  {
   "cell_type": "code",
   "execution_count": 4,
   "metadata": {
    "collapsed": false
   },
   "outputs": [
    {
     "name": "stdout",
     "output_type": "stream",
     "text": [
      "(/tmp/eval_stringpv63vwvy.py:1 remapped <string>): <module>\n",
      "-> 1 os\u001b[39;49;00m.\u001b[39;49;00mpath\u001b[39;49;00m.\u001b[39;49;00mjoin\u001b[39;49;00m(\u001b[39;49;00m\u001b[33m'\u001b[39;49;00m\u001b[33m/tmp\u001b[39;49;00m\u001b[33m'\u001b[39;49;00m,\u001b[39;49;00m \u001b[39;49;00m\u001b[33m'\u001b[39;49;00m\u001b[33mfoo\u001b[39;49;00m\u001b[33m'\u001b[39;49;00m,\u001b[39;49;00m \u001b[39;49;00m\u001b[33m'\u001b[39;49;00m\u001b[33mbar.py\u001b[39;49;00m\u001b[33m'\u001b[39;49;00m)\u001b[39;49;00m\n",
      "\u001b[04m(trepan3k)\u001b[39;49;00m s\n",
      "(/home/rocky/.pyenv/versions/3.4.1/lib/python3.4/posixpath.py:71): join\n",
      "-> 71 \u001b[34mdef\u001b[39;49;00m \u001b[39;49;00m\u001b[32mjoin\u001b[39;49;00m(\u001b[39;49;00ma\u001b[39;49;00m,\u001b[39;49;00m \u001b[39;49;00m*\u001b[39;49;00mp\u001b[39;49;00m)\u001b[39;49;00m:\u001b[39;49;00m\n",
      "\u001b[04m(trepan3k)\u001b[39;49;00m backtrace\n",
      "\u001b[31;01m->\u001b[39;49;00m0 \u001b[32;01mjoin\u001b[39;49;00m(a='/tmp', *p=('foo', 'bar.py'))\n",
      "     called from file \u001b[36;01m'/home/rocky/.pyenv/versions/3.4.1/lib/python3.4/posixpath.py'\u001b[39;49;00m at line \u001b[34;01m71\u001b[39;49;00m\n",
      "##1 \u001b[32;01m<module>\u001b[39;49;00m \u001b[32;01m\u001b[32;01meval\u001b[39;49;00m\u001b[39;49;00m()\n",
      "     in exec \u001b[36;01m<string>\u001b[39;49;00m at line \u001b[34;01m1\u001b[39;49;00m\n",
      "\u001b[04m(trepan3k)\u001b[39;49;00m list\n",
      " 66    \t\n",
      " 67    \t\u001b[37m# Join pathnames.\u001b[39;49;00m\n",
      " 68    \t\u001b[37m# Ignore the previous parts if a part is absolute.\u001b[39;49;00m\n",
      " 69    \t\u001b[37m# Insert a '/' unless the first part is empty or already ends in '/'.\u001b[39;49;00m\n",
      " 70    \t\n",
      "\u001b[01m 71  ->\u001b[39;49;00m\t\u001b[34mdef\u001b[39;49;00m \u001b[39;49;00m\u001b[32mjoin\u001b[39;49;00m(\u001b[39;49;00ma\u001b[39;49;00m,\u001b[39;49;00m \u001b[39;49;00m*\u001b[39;49;00mp\u001b[39;49;00m)\u001b[39;49;00m:\u001b[39;49;00m\n",
      " 72    \t    \u001b[39;49;00m\u001b[33m\"\"\"Join two or more pathname components, inserting '/' as needed.\u001b[39;49;00m\n",
      " 73    \t\u001b[33m    If any component is an absolute path, all previous path components\u001b[39;49;00m\n",
      " 74    \t\u001b[33m    will be discarded.  An empty last part will result in a path that\u001b[39;49;00m\n",
      " 75    \t\u001b[33m    ends with a separator.\"\"\"\u001b[39;49;00m\n",
      "\u001b[04m(trepan3k)\u001b[39;49;00m set autolist on\n",
      "\u001b[04m(trepan3k)\u001b[39;49;00m step\n",
      "(/home/rocky/.pyenv/versions/3.4.1/lib/python3.4/posixpath.py:76): join\n",
      "-- 76     \u001b[39;49;00msep\u001b[39;49;00m \u001b[39;49;00m=\u001b[39;49;00m \u001b[39;49;00m_get_sep\u001b[39;49;00m(\u001b[39;49;00ma\u001b[39;49;00m)\u001b[39;49;00m\n",
      " 71    \t\u001b[34mdef\u001b[39;49;00m \u001b[39;49;00m\u001b[32mjoin\u001b[39;49;00m(\u001b[39;49;00ma\u001b[39;49;00m,\u001b[39;49;00m \u001b[39;49;00m*\u001b[39;49;00mp\u001b[39;49;00m)\u001b[39;49;00m:\u001b[39;49;00m\n",
      " 72    \t    \u001b[39;49;00m\u001b[33m\"\"\"Join two or more pathname components, inserting '/' as needed.\u001b[39;49;00m\n",
      " 73    \t\u001b[33m    If any component is an absolute path, all previous path components\u001b[39;49;00m\n",
      " 74    \t\u001b[33m    will be discarded.  An empty last part will result in a path that\u001b[39;49;00m\n",
      " 75    \t\u001b[33m    ends with a separator.\"\"\"\u001b[39;49;00m\n",
      "\u001b[01m 76  ->\u001b[39;49;00m\t    \u001b[39;49;00msep\u001b[39;49;00m \u001b[39;49;00m=\u001b[39;49;00m \u001b[39;49;00m_get_sep\u001b[39;49;00m(\u001b[39;49;00ma\u001b[39;49;00m)\u001b[39;49;00m\n",
      " 77    \t    \u001b[39;49;00mpath\u001b[39;49;00m \u001b[39;49;00m=\u001b[39;49;00m \u001b[39;49;00ma\u001b[39;49;00m\n",
      " 78    \t    \u001b[39;49;00m\u001b[34mtry\u001b[39;49;00m:\u001b[39;49;00m\n",
      " 79    \t        \u001b[39;49;00m\u001b[34mfor\u001b[39;49;00m \u001b[39;49;00mb\u001b[39;49;00m \u001b[39;49;00m\u001b[35min\u001b[39;49;00m \u001b[39;49;00mp\u001b[39;49;00m:\u001b[39;49;00m\n",
      " 80    \t            \u001b[39;49;00m\u001b[34mif\u001b[39;49;00m \u001b[39;49;00mb\u001b[39;49;00m.\u001b[39;49;00mstartswith\u001b[39;49;00m(\u001b[39;49;00msep\u001b[39;49;00m)\u001b[39;49;00m:\u001b[39;49;00m\n",
      "\u001b[04m(trepan3k)\u001b[39;49;00m step\n",
      "(/home/rocky/.pyenv/versions/3.4.1/lib/python3.4/posixpath.py:38): _get_sep\n",
      "-> 38 \u001b[34mdef\u001b[39;49;00m \u001b[39;49;00m\u001b[32m_get_sep\u001b[39;49;00m(\u001b[39;49;00mpath\u001b[39;49;00m)\u001b[39;49;00m:\u001b[39;49;00m\n",
      " 33    \tpathsep\u001b[39;49;00m \u001b[39;49;00m=\u001b[39;49;00m \u001b[39;49;00m\u001b[33m'\u001b[39;49;00m\u001b[33m:\u001b[39;49;00m\u001b[33m'\u001b[39;49;00m\n",
      " 34    \tdefpath\u001b[39;49;00m \u001b[39;49;00m=\u001b[39;49;00m \u001b[39;49;00m\u001b[33m'\u001b[39;49;00m\u001b[33m:/bin:/usr/bin\u001b[39;49;00m\u001b[33m'\u001b[39;49;00m\n",
      " 35    \taltsep\u001b[39;49;00m \u001b[39;49;00m=\u001b[39;49;00m \u001b[39;49;00m\u001b[36mNone\u001b[39;49;00m\n",
      " 36    \tdevnull\u001b[39;49;00m \u001b[39;49;00m=\u001b[39;49;00m \u001b[39;49;00m\u001b[33m'\u001b[39;49;00m\u001b[33m/dev/null\u001b[39;49;00m\u001b[33m'\u001b[39;49;00m\n",
      " 37    \t\n",
      "\u001b[01m 38  ->\u001b[39;49;00m\t\u001b[34mdef\u001b[39;49;00m \u001b[39;49;00m\u001b[32m_get_sep\u001b[39;49;00m(\u001b[39;49;00mpath\u001b[39;49;00m)\u001b[39;49;00m:\u001b[39;49;00m\n",
      " 39    \t    \u001b[39;49;00m\u001b[34mif\u001b[39;49;00m \u001b[39;49;00m\u001b[36misinstance\u001b[39;49;00m(\u001b[39;49;00mpath\u001b[39;49;00m,\u001b[39;49;00m \u001b[39;49;00m\u001b[36mbytes\u001b[39;49;00m)\u001b[39;49;00m:\u001b[39;49;00m\n",
      " 40    \t        \u001b[39;49;00m\u001b[34mreturn\u001b[39;49;00m \u001b[39;49;00mb\u001b[39;49;00m\u001b[33m'\u001b[39;49;00m\u001b[33m/\u001b[39;49;00m\u001b[33m'\u001b[39;49;00m\n",
      " 41    \t    \u001b[39;49;00m\u001b[34melse\u001b[39;49;00m:\u001b[39;49;00m\n",
      " 42    \t        \u001b[39;49;00m\u001b[34mreturn\u001b[39;49;00m \u001b[39;49;00m\u001b[33m'\u001b[39;49;00m\u001b[33m/\u001b[39;49;00m\u001b[33m'\u001b[39;49;00m\n",
      "\u001b[04m(trepan3k)\u001b[39;49;00m step\n",
      "(/home/rocky/.pyenv/versions/3.4.1/lib/python3.4/posixpath.py:39): _get_sep\n",
      "-- 39     \u001b[39;49;00m\u001b[34mif\u001b[39;49;00m \u001b[39;49;00m\u001b[36misinstance\u001b[39;49;00m(\u001b[39;49;00mpath\u001b[39;49;00m,\u001b[39;49;00m \u001b[39;49;00m\u001b[36mbytes\u001b[39;49;00m)\u001b[39;49;00m:\u001b[39;49;00m\n",
      " 34    \tdefpath\u001b[39;49;00m \u001b[39;49;00m=\u001b[39;49;00m \u001b[39;49;00m\u001b[33m'\u001b[39;49;00m\u001b[33m:/bin:/usr/bin\u001b[39;49;00m\u001b[33m'\u001b[39;49;00m\n",
      " 35    \taltsep\u001b[39;49;00m \u001b[39;49;00m=\u001b[39;49;00m \u001b[39;49;00m\u001b[36mNone\u001b[39;49;00m\n",
      " 36    \tdevnull\u001b[39;49;00m \u001b[39;49;00m=\u001b[39;49;00m \u001b[39;49;00m\u001b[33m'\u001b[39;49;00m\u001b[33m/dev/null\u001b[39;49;00m\u001b[33m'\u001b[39;49;00m\n",
      " 37    \t\n",
      " 38    \t\u001b[34mdef\u001b[39;49;00m \u001b[39;49;00m\u001b[32m_get_sep\u001b[39;49;00m(\u001b[39;49;00mpath\u001b[39;49;00m)\u001b[39;49;00m:\u001b[39;49;00m\n",
      "\u001b[01m 39  ->\u001b[39;49;00m\t    \u001b[39;49;00m\u001b[34mif\u001b[39;49;00m \u001b[39;49;00m\u001b[36misinstance\u001b[39;49;00m(\u001b[39;49;00mpath\u001b[39;49;00m,\u001b[39;49;00m \u001b[39;49;00m\u001b[36mbytes\u001b[39;49;00m)\u001b[39;49;00m:\u001b[39;49;00m\n",
      " 40    \t        \u001b[39;49;00m\u001b[34mreturn\u001b[39;49;00m \u001b[39;49;00mb\u001b[39;49;00m\u001b[33m'\u001b[39;49;00m\u001b[33m/\u001b[39;49;00m\u001b[33m'\u001b[39;49;00m\n",
      " 41    \t    \u001b[39;49;00m\u001b[34melse\u001b[39;49;00m:\u001b[39;49;00m\n",
      " 42    \t        \u001b[39;49;00m\u001b[34mreturn\u001b[39;49;00m \u001b[39;49;00m\u001b[33m'\u001b[39;49;00m\u001b[33m/\u001b[39;49;00m\u001b[33m'\u001b[39;49;00m\n",
      " 43    \t\n",
      "\u001b[04m(trepan3k)\u001b[39;49;00m continue\n"
     ]
    },
    {
     "data": {
      "text/plain": [
       "'/tmp/foo/bar.py'"
      ]
     },
     "execution_count": 4,
     "metadata": {},
     "output_type": "execute_result"
    }
   ],
   "source": [
    "%trepan_eval os.path.join('/tmp', 'foo', 'bar.py')"
   ]
  },
  {
   "cell_type": "code",
   "execution_count": 5,
   "metadata": {
    "collapsed": false
   },
   "outputs": [
    {
     "name": "stdout",
     "output_type": "stream",
     "text": [
      "(/tmp/eval_stringor5m82_u.py:1 remapped <string>): <module>\n",
      "-> 1 \u001b[34m1\u001b[39;49;00m+\u001b[39;49;00m\u001b[34m2\u001b[39;49;00m \u001b[39;49;00m\u001b[37m# can eval expressions, but this is stupid\u001b[39;49;00m\n",
      "\u001b[04m(trepan3k)\u001b[39;49;00m c\n"
     ]
    },
    {
     "data": {
      "text/plain": [
       "3"
      ]
     },
     "execution_count": 5,
     "metadata": {},
     "output_type": "execute_result"
    }
   ],
   "source": [
    "%trepan_eval 1+2 # can eval expressions, but this is stupid"
   ]
  },
  {
   "cell_type": "code",
   "execution_count": 6,
   "metadata": {
    "collapsed": false
   },
   "outputs": [
    {
     "name": "stdout",
     "output_type": "stream",
     "text": [
      "(/tmp/eval_stringju9lkx9w.py:1 remapped <string>): <module>\n",
      "-> 1 \u001b[34m3\u001b[39;49;00m+\u001b[39;49;00m\u001b[34m4\u001b[39;49;00m\n",
      "\u001b[04m(trepan3k)\u001b[39;49;00m backtrace\n",
      "\u001b[31;01m->\u001b[39;49;00m0 \u001b[32;01m<module>\u001b[39;49;00m \u001b[32;01m\u001b[32;01meval\u001b[39;49;00m\u001b[39;49;00m()\n",
      "     in exec \u001b[36;01m<string>\u001b[39;49;00m at line \u001b[34;01m1\u001b[39;49;00m\n",
      "\u001b[04m(trepan3k)\u001b[39;49;00m quit # don't continue evaluation; return to ipython\n"
     ]
    }
   ],
   "source": [
    "%trepan_eval 3+4"
   ]
  },
  {
   "cell_type": "code",
   "execution_count": 7,
   "metadata": {
    "collapsed": true
   },
   "outputs": [],
   "source": [
    "quit"
   ]
  }
 ],
 "metadata": {
  "kernelspec": {
   "display_name": "Python 3",
   "language": "python",
   "name": "python3"
  },
  "language_info": {
   "codemirror_mode": {
    "name": "ipython",
    "version": 3
   },
   "file_extension": ".py",
   "mimetype": "text/x-python",
   "name": "python",
   "nbconvert_exporter": "python",
   "pygments_lexer": "ipython3",
   "version": "3.4.1"
  }
 },
 "nbformat": 4,
 "nbformat_minor": 0
}
