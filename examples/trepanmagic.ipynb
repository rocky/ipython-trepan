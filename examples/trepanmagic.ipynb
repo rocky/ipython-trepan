{
 "cells": [
  {
   "cell_type": "code",
   "execution_count": 5,
   "metadata": {
    "collapsed": false
   },
   "outputs": [
    {
     "name": "stdout",
     "output_type": "stream",
     "text": [
      "(/home/rocky/.pyenv/versions/3.4.1/bin/pygmentize:3): <module>\n",
      "-> 3 __requires__\u001b[39;49;00m \u001b[39;49;00m=\u001b[39;49;00m \u001b[39;49;00m\u001b[33m'\u001b[39;49;00m\u001b[33mPygments==2.0.2\u001b[39;49;00m\u001b[33m'\u001b[39;49;00m\n",
      "\u001b[04m(trepan3k)\u001b[39;49;00m s\n",
      "(/home/rocky/.pyenv/versions/3.4.1/bin/pygmentize:4): <module>\n",
      "-- 4 \u001b[34mimport\u001b[39;49;00m \u001b[39;49;00m\u001b[04m\u001b[36msys\u001b[39;49;00m\n",
      "\u001b[04m(trepan3k)\u001b[39;49;00m list\n",
      "  1    \t\u001b[37m#!/home/rocky/.pyenv/versions/3.4.1/bin/python3\u001b[39;49;00m\n",
      "  2    \t\u001b[37m# EASY-INSTALL-ENTRY-SCRIPT: 'Pygments==2.0.2','console_scripts','pygmentize'\u001b[39;49;00m\n",
      "  3    \t__requires__\u001b[39;49;00m \u001b[39;49;00m=\u001b[39;49;00m \u001b[39;49;00m\u001b[33m'\u001b[39;49;00m\u001b[33mPygments==2.0.2\u001b[39;49;00m\u001b[33m'\u001b[39;49;00m\n",
      "\u001b[01m  4  ->\u001b[39;49;00m\t\u001b[34mimport\u001b[39;49;00m \u001b[39;49;00m\u001b[04m\u001b[36msys\u001b[39;49;00m\n",
      "  5    \t\u001b[34mfrom\u001b[39;49;00m \u001b[39;49;00m\u001b[04m\u001b[36mpkg_resources\u001b[39;49;00m \u001b[39;49;00m\u001b[34mimport\u001b[39;49;00m \u001b[39;49;00mload_entry_point\u001b[39;49;00m\n",
      "  6    \t\n",
      "  7    \t\u001b[34mif\u001b[39;49;00m \u001b[39;49;00m__name__\u001b[39;49;00m \u001b[39;49;00m==\u001b[39;49;00m \u001b[39;49;00m\u001b[33m'\u001b[39;49;00m\u001b[33m__main__\u001b[39;49;00m\u001b[33m'\u001b[39;49;00m:\u001b[39;49;00m\n",
      "  8    \t    \u001b[39;49;00msys\u001b[39;49;00m.\u001b[39;49;00mexit\u001b[39;49;00m(\u001b[39;49;00m\n",
      "  9    \t        \u001b[39;49;00mload_entry_point\u001b[39;49;00m(\u001b[39;49;00m\u001b[33m'\u001b[39;49;00m\u001b[33mPygments==2.0.2\u001b[39;49;00m\u001b[33m'\u001b[39;49;00m,\u001b[39;49;00m \u001b[39;49;00m\u001b[33m'\u001b[39;49;00m\u001b[33mconsole_scripts\u001b[39;49;00m\u001b[33m'\u001b[39;49;00m,\u001b[39;49;00m \u001b[39;49;00m\u001b[33m'\u001b[39;49;00m\u001b[33mpygmentize\u001b[39;49;00m\u001b[33m'\u001b[39;49;00m)\u001b[39;49;00m(\u001b[39;49;00m)\u001b[39;49;00m\n",
      " 10    \t    \u001b[39;49;00m)\u001b[39;49;00m\n",
      "\u001b[04m(trepan3k)\u001b[39;49;00m n\n",
      "(/home/rocky/.pyenv/versions/3.4.1/bin/pygmentize:5): <module>\n",
      "-- 5 \u001b[34mfrom\u001b[39;49;00m \u001b[39;49;00m\u001b[04m\u001b[36mpkg_resources\u001b[39;49;00m \u001b[39;49;00m\u001b[34mimport\u001b[39;49;00m \u001b[39;49;00mload_entry_point\u001b[39;49;00m\n",
      "\u001b[04m(trepan3k)\u001b[39;49;00m n\n",
      "(/home/rocky/.pyenv/versions/3.4.1/bin/pygmentize:7): <module>\n",
      "-- 7 \u001b[34mif\u001b[39;49;00m \u001b[39;49;00m__name__\u001b[39;49;00m \u001b[39;49;00m==\u001b[39;49;00m \u001b[39;49;00m\u001b[33m'\u001b[39;49;00m\u001b[33m__main__\u001b[39;49;00m\u001b[33m'\u001b[39;49;00m:\u001b[39;49;00m\n",
      "\u001b[04m(trepan3k)\u001b[39;49;00m eval?\n",
      "eval: __name__ == '__main__'\n"
     ]
    },
    {
     "data": {
      "text/plain": [
       "True"
      ]
     },
     "execution_count": 5,
     "metadata": {},
     "output_type": "execute_result"
    },
    {
     "name": "stdout",
     "output_type": "stream",
     "text": [
      "\u001b[04m(trepan3k)\u001b[39;49;00m quit\n"
     ]
    }
   ],
   "source": [
    "%trepan pygmentize /usr/local/bin/pygmentize"
   ]
  }
 ],
 "metadata": {
  "kernelspec": {
   "display_name": "Python 3",
   "language": "python",
   "name": "python3"
  },
  "language_info": {
   "codemirror_mode": {
    "name": "ipython",
    "version": 3
   },
   "file_extension": ".py",
   "mimetype": "text/x-python",
   "name": "python",
   "nbconvert_exporter": "python",
   "pygments_lexer": "ipython3",
   "version": "3.4.1"
  }
 },
 "nbformat": 4,
 "nbformat_minor": 0
}
